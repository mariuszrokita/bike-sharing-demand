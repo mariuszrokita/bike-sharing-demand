{
 "cells": [
  {
   "cell_type": "code",
   "execution_count": 1,
   "metadata": {},
   "outputs": [],
   "source": [
    "import datetime as dt\n",
    "import matplotlib.pyplot as plt\n",
    "import numpy    as np\n",
    "import os.path\n",
    "import pandas   as pd\n",
    "import random   as rand\n",
    "import seaborn  as sns\n",
    "\n",
    "%matplotlib inline\n",
    "%config InlineBackend.figure_format = 'retina'"
   ]
  },
  {
   "cell_type": "code",
   "execution_count": 2,
   "metadata": {
    "code_folding": []
   },
   "outputs": [],
   "source": [
    "# configuration\n",
    "fulldata2015_filepath = '../../data/raw/wroclawski-rower-miejski/wypozyczenia_wrm-sezon2015.xlsx'\n",
    "fulldata2016_filepath = '../../data/raw/wroclawski-rower-miejski/wypozyczenia_wrm-sezon2016.xlsx'"
   ]
  },
  {
   "cell_type": "code",
   "execution_count": 3,
   "metadata": {},
   "outputs": [],
   "source": [
    "rentals2015_df_orig = pd.read_excel(fulldata2015_filepath)\n",
    "rentals2016_df_orig = pd.read_excel(fulldata2016_filepath)"
   ]
  },
  {
   "cell_type": "code",
   "execution_count": 4,
   "metadata": {},
   "outputs": [],
   "source": [
    "rentals2015_df = rentals2015_df_orig.copy()\n",
    "rentals2016_df = rentals2016_df_orig.copy()\n",
    "\n",
    "rentals = pd.concat([rentals2015_df, rentals2016_df])"
   ]
  },
  {
   "cell_type": "code",
   "execution_count": 5,
   "metadata": {},
   "outputs": [
    {
     "name": "stdout",
     "output_type": "stream",
     "text": [
      "<class 'pandas.core.frame.DataFrame'>\n",
      "Int64Index: 1861322 entries, 0 to 1017370\n",
      "Data columns (total 6 columns):\n",
      "L.p.              int64\n",
      "Numer roweru      int64\n",
      "Data wynajmu      datetime64[ns]\n",
      "Data zwrotu       datetime64[ns]\n",
      "Stacja wynajmu    object\n",
      "Stacja zwrotu     object\n",
      "dtypes: datetime64[ns](2), int64(2), object(2)\n",
      "memory usage: 99.4+ MB\n"
     ]
    }
   ],
   "source": [
    "rentals.info()"
   ]
  },
  {
   "cell_type": "code",
   "execution_count": 6,
   "metadata": {},
   "outputs": [
    {
     "data": {
      "text/html": [
       "<div>\n",
       "<style scoped>\n",
       "    .dataframe tbody tr th:only-of-type {\n",
       "        vertical-align: middle;\n",
       "    }\n",
       "\n",
       "    .dataframe tbody tr th {\n",
       "        vertical-align: top;\n",
       "    }\n",
       "\n",
       "    .dataframe thead th {\n",
       "        text-align: right;\n",
       "    }\n",
       "</style>\n",
       "<table border=\"1\" class=\"dataframe\">\n",
       "  <thead>\n",
       "    <tr style=\"text-align: right;\">\n",
       "      <th></th>\n",
       "      <th>L.p.</th>\n",
       "      <th>Numer roweru</th>\n",
       "      <th>Data wynajmu</th>\n",
       "      <th>Data zwrotu</th>\n",
       "      <th>Stacja wynajmu</th>\n",
       "      <th>Stacja zwrotu</th>\n",
       "    </tr>\n",
       "  </thead>\n",
       "  <tbody>\n",
       "    <tr>\n",
       "      <th>0</th>\n",
       "      <td>1</td>\n",
       "      <td>57735</td>\n",
       "      <td>2015-04-28 11:49:20</td>\n",
       "      <td>2015-04-28 11:49:39</td>\n",
       "      <td>Plac Uniwersytecki</td>\n",
       "      <td>Plac Uniwersytecki</td>\n",
       "    </tr>\n",
       "    <tr>\n",
       "      <th>1</th>\n",
       "      <td>2</td>\n",
       "      <td>57735</td>\n",
       "      <td>2015-04-28 11:51:00</td>\n",
       "      <td>2015-04-28 11:52:05</td>\n",
       "      <td>Plac Uniwersytecki</td>\n",
       "      <td>Plac Uniwersytecki</td>\n",
       "    </tr>\n",
       "    <tr>\n",
       "      <th>2</th>\n",
       "      <td>3</td>\n",
       "      <td>57735</td>\n",
       "      <td>2015-04-28 11:52:39</td>\n",
       "      <td>2015-04-28 11:54:33</td>\n",
       "      <td>Plac Uniwersytecki</td>\n",
       "      <td>Plac Uniwersytecki</td>\n",
       "    </tr>\n",
       "    <tr>\n",
       "      <th>3</th>\n",
       "      <td>4</td>\n",
       "      <td>57735</td>\n",
       "      <td>2015-04-28 11:55:16</td>\n",
       "      <td>2015-04-28 11:56:20</td>\n",
       "      <td>Plac Uniwersytecki</td>\n",
       "      <td>Plac Uniwersytecki</td>\n",
       "    </tr>\n",
       "    <tr>\n",
       "      <th>4</th>\n",
       "      <td>5</td>\n",
       "      <td>57047</td>\n",
       "      <td>2015-04-28 11:56:07</td>\n",
       "      <td>2015-04-28 11:57:10</td>\n",
       "      <td>Plac Uniwersytecki</td>\n",
       "      <td>Plac Uniwersytecki</td>\n",
       "    </tr>\n",
       "    <tr>\n",
       "      <th>5</th>\n",
       "      <td>6</td>\n",
       "      <td>57129</td>\n",
       "      <td>2015-04-28 11:58:52</td>\n",
       "      <td>2015-04-28 12:17:15</td>\n",
       "      <td>Rondo Reagana</td>\n",
       "      <td>Rondo Reagana</td>\n",
       "    </tr>\n",
       "    <tr>\n",
       "      <th>6</th>\n",
       "      <td>7</td>\n",
       "      <td>57505</td>\n",
       "      <td>2015-04-28 12:01:45</td>\n",
       "      <td>2015-04-28 12:06:00</td>\n",
       "      <td>Gliniana - Gajowa</td>\n",
       "      <td>Gliniana - Gajowa</td>\n",
       "    </tr>\n",
       "    <tr>\n",
       "      <th>7</th>\n",
       "      <td>8</td>\n",
       "      <td>57700</td>\n",
       "      <td>2015-04-28 12:01:49</td>\n",
       "      <td>2015-04-28 12:09:45</td>\n",
       "      <td>Zachodnia - Poznańska</td>\n",
       "      <td>Plac Strzegomski</td>\n",
       "    </tr>\n",
       "    <tr>\n",
       "      <th>8</th>\n",
       "      <td>9</td>\n",
       "      <td>57487</td>\n",
       "      <td>2015-04-28 12:05:13</td>\n",
       "      <td>2015-04-28 12:12:20</td>\n",
       "      <td>Grochowa - Jemiołowa</td>\n",
       "      <td>Grochowa - Jemiołowa</td>\n",
       "    </tr>\n",
       "    <tr>\n",
       "      <th>9</th>\n",
       "      <td>10</td>\n",
       "      <td>57681</td>\n",
       "      <td>2015-04-28 12:05:13</td>\n",
       "      <td>2015-04-28 12:15:54</td>\n",
       "      <td>Muzeum Narodowe</td>\n",
       "      <td>Muzeum Narodowe</td>\n",
       "    </tr>\n",
       "  </tbody>\n",
       "</table>\n",
       "</div>"
      ],
      "text/plain": [
       "   L.p.  Numer roweru        Data wynajmu         Data zwrotu  \\\n",
       "0     1         57735 2015-04-28 11:49:20 2015-04-28 11:49:39   \n",
       "1     2         57735 2015-04-28 11:51:00 2015-04-28 11:52:05   \n",
       "2     3         57735 2015-04-28 11:52:39 2015-04-28 11:54:33   \n",
       "3     4         57735 2015-04-28 11:55:16 2015-04-28 11:56:20   \n",
       "4     5         57047 2015-04-28 11:56:07 2015-04-28 11:57:10   \n",
       "5     6         57129 2015-04-28 11:58:52 2015-04-28 12:17:15   \n",
       "6     7         57505 2015-04-28 12:01:45 2015-04-28 12:06:00   \n",
       "7     8         57700 2015-04-28 12:01:49 2015-04-28 12:09:45   \n",
       "8     9         57487 2015-04-28 12:05:13 2015-04-28 12:12:20   \n",
       "9    10         57681 2015-04-28 12:05:13 2015-04-28 12:15:54   \n",
       "\n",
       "          Stacja wynajmu         Stacja zwrotu  \n",
       "0     Plac Uniwersytecki    Plac Uniwersytecki  \n",
       "1     Plac Uniwersytecki    Plac Uniwersytecki  \n",
       "2     Plac Uniwersytecki    Plac Uniwersytecki  \n",
       "3     Plac Uniwersytecki    Plac Uniwersytecki  \n",
       "4     Plac Uniwersytecki    Plac Uniwersytecki  \n",
       "5          Rondo Reagana         Rondo Reagana  \n",
       "6      Gliniana - Gajowa     Gliniana - Gajowa  \n",
       "7  Zachodnia - Poznańska      Plac Strzegomski  \n",
       "8   Grochowa - Jemiołowa  Grochowa - Jemiołowa  \n",
       "9        Muzeum Narodowe       Muzeum Narodowe  "
      ]
     },
     "execution_count": 6,
     "metadata": {},
     "output_type": "execute_result"
    }
   ],
   "source": [
    "rentals.head(10)"
   ]
  },
  {
   "cell_type": "code",
   "execution_count": 7,
   "metadata": {},
   "outputs": [
    {
     "data": {
      "text/plain": [
       "L.p.              0\n",
       "Numer roweru      0\n",
       "Data wynajmu      0\n",
       "Data zwrotu       0\n",
       "Stacja wynajmu    0\n",
       "Stacja zwrotu     0\n",
       "dtype: int64"
      ]
     },
     "execution_count": 7,
     "metadata": {},
     "output_type": "execute_result"
    }
   ],
   "source": [
    "rentals.isnull().sum()"
   ]
  },
  {
   "cell_type": "code",
   "execution_count": 8,
   "metadata": {},
   "outputs": [
    {
     "data": {
      "text/html": [
       "<div>\n",
       "<style scoped>\n",
       "    .dataframe tbody tr th:only-of-type {\n",
       "        vertical-align: middle;\n",
       "    }\n",
       "\n",
       "    .dataframe tbody tr th {\n",
       "        vertical-align: top;\n",
       "    }\n",
       "\n",
       "    .dataframe thead th {\n",
       "        text-align: right;\n",
       "    }\n",
       "</style>\n",
       "<table border=\"1\" class=\"dataframe\">\n",
       "  <thead>\n",
       "    <tr style=\"text-align: right;\">\n",
       "      <th></th>\n",
       "      <th>L.p.</th>\n",
       "      <th>Numer roweru</th>\n",
       "    </tr>\n",
       "  </thead>\n",
       "  <tbody>\n",
       "    <tr>\n",
       "      <th>count</th>\n",
       "      <td>1.861322e+06</td>\n",
       "      <td>1.861322e+06</td>\n",
       "    </tr>\n",
       "    <tr>\n",
       "      <th>mean</th>\n",
       "      <td>4.693704e+05</td>\n",
       "      <td>5.741074e+04</td>\n",
       "    </tr>\n",
       "    <tr>\n",
       "      <th>std</th>\n",
       "      <td>2.755368e+05</td>\n",
       "      <td>2.375982e+02</td>\n",
       "    </tr>\n",
       "    <tr>\n",
       "      <th>min</th>\n",
       "      <td>1.000000e+00</td>\n",
       "      <td>5.700000e+04</td>\n",
       "    </tr>\n",
       "    <tr>\n",
       "      <th>25%</th>\n",
       "      <td>2.326660e+05</td>\n",
       "      <td>5.720300e+04</td>\n",
       "    </tr>\n",
       "    <tr>\n",
       "      <th>50%</th>\n",
       "      <td>4.653310e+05</td>\n",
       "      <td>5.740900e+04</td>\n",
       "    </tr>\n",
       "    <tr>\n",
       "      <th>75%</th>\n",
       "      <td>6.979960e+05</td>\n",
       "      <td>5.761800e+04</td>\n",
       "    </tr>\n",
       "    <tr>\n",
       "      <th>max</th>\n",
       "      <td>1.017371e+06</td>\n",
       "      <td>5.786900e+04</td>\n",
       "    </tr>\n",
       "  </tbody>\n",
       "</table>\n",
       "</div>"
      ],
      "text/plain": [
       "               L.p.  Numer roweru\n",
       "count  1.861322e+06  1.861322e+06\n",
       "mean   4.693704e+05  5.741074e+04\n",
       "std    2.755368e+05  2.375982e+02\n",
       "min    1.000000e+00  5.700000e+04\n",
       "25%    2.326660e+05  5.720300e+04\n",
       "50%    4.653310e+05  5.740900e+04\n",
       "75%    6.979960e+05  5.761800e+04\n",
       "max    1.017371e+06  5.786900e+04"
      ]
     },
     "execution_count": 8,
     "metadata": {},
     "output_type": "execute_result"
    }
   ],
   "source": [
    "rentals.describe()"
   ]
  },
  {
   "cell_type": "markdown",
   "metadata": {},
   "source": [
    "# Data cleaning"
   ]
  },
  {
   "cell_type": "markdown",
   "metadata": {},
   "source": [
    "### Records with 0s of bike rental time length"
   ]
  },
  {
   "cell_type": "code",
   "execution_count": 9,
   "metadata": {},
   "outputs": [
    {
     "name": "stdout",
     "output_type": "stream",
     "text": [
      "Number of rentals (in 2015) with duration 0 seconds: 47\n",
      "Number of rentals (in 2016) with duration 0 seconds: 176\n",
      "Data cleaning verification:\n",
      "Number of rentals (in 2015) with duration 0 seconds: 0\n",
      "Number of rentals (in 2016) with duration 0 seconds: 0\n"
     ]
    }
   ],
   "source": [
    "print(\"Number of rentals (in 2015) with duration 0 seconds: {}\".format(len(rentals2015_df[ rentals2015_df[\"Data zwrotu\"] == rentals2015_df[\"Data wynajmu\"] ])))\n",
    "print(\"Number of rentals (in 2016) with duration 0 seconds: {}\".format(len(rentals2016_df[ rentals2016_df[\"Data zwrotu\"] == rentals2016_df[\"Data wynajmu\"] ])))\n",
    "\n",
    "# Rentals with duration 0 seconds are considered as incorrect, thus will be deleted\n",
    "rentals2015_df.drop(rentals2015_df[ rentals2015_df[\"Data zwrotu\"] == rentals2015_df[\"Data wynajmu\"] ].index, inplace=True)\n",
    "rentals2016_df.drop(rentals2016_df[ rentals2016_df[\"Data zwrotu\"] == rentals2016_df[\"Data wynajmu\"] ].index, inplace=True)\n",
    "\n",
    "print(\"Data cleaning verification:\")\n",
    "print(\"Number of rentals (in 2015) with duration 0 seconds: {}\".format(len(rentals2015_df[ rentals2015_df[\"Data zwrotu\"] == rentals2015_df[\"Data wynajmu\"] ])))\n",
    "print(\"Number of rentals (in 2016) with duration 0 seconds: {}\".format(len(rentals2016_df[ rentals2016_df[\"Data zwrotu\"] == rentals2016_df[\"Data wynajmu\"] ])))"
   ]
  },
  {
   "cell_type": "markdown",
   "metadata": {},
   "source": [
    "### One-hour time shift at the end of Daylight Saving Time (DST)"
   ]
  },
  {
   "cell_type": "markdown",
   "metadata": {},
   "source": [
    "The Daylight Saving Time change took place in Poland on:\n",
    "* 2015-03-29 (2:00am => 3:00 am)\n",
    "* 2015-10-25 (3:00am => 2:00 am)\n",
    "* 2016-03-27 (2:00am => 3:00 am)\n",
    "* 2016-10-30 (3:00am => 2:00 am)"
   ]
  },
  {
   "cell_type": "markdown",
   "metadata": {},
   "source": [
    "#### Year 2015"
   ]
  },
  {
   "cell_type": "markdown",
   "metadata": {},
   "source": [
    "##### 3:00am -> 2:00am"
   ]
  },
  {
   "cell_type": "code",
   "execution_count": 10,
   "metadata": {},
   "outputs": [
    {
     "data": {
      "text/html": [
       "<div>\n",
       "<style scoped>\n",
       "    .dataframe tbody tr th:only-of-type {\n",
       "        vertical-align: middle;\n",
       "    }\n",
       "\n",
       "    .dataframe tbody tr th {\n",
       "        vertical-align: top;\n",
       "    }\n",
       "\n",
       "    .dataframe thead th {\n",
       "        text-align: right;\n",
       "    }\n",
       "</style>\n",
       "<table border=\"1\" class=\"dataframe\">\n",
       "  <thead>\n",
       "    <tr style=\"text-align: right;\">\n",
       "      <th></th>\n",
       "      <th>L.p.</th>\n",
       "      <th>Numer roweru</th>\n",
       "      <th>Data wynajmu</th>\n",
       "      <th>Data zwrotu</th>\n",
       "      <th>Stacja wynajmu</th>\n",
       "      <th>Stacja zwrotu</th>\n",
       "    </tr>\n",
       "  </thead>\n",
       "  <tbody>\n",
       "    <tr>\n",
       "      <th>787264</th>\n",
       "      <td>787265</td>\n",
       "      <td>57490</td>\n",
       "      <td>2015-10-25 02:23:55</td>\n",
       "      <td>2015-10-25 02:21:33</td>\n",
       "      <td>Rynek</td>\n",
       "      <td>Dworzec Mikołajów</td>\n",
       "    </tr>\n",
       "    <tr>\n",
       "      <th>787266</th>\n",
       "      <td>787267</td>\n",
       "      <td>57257</td>\n",
       "      <td>2015-10-25 02:26:04</td>\n",
       "      <td>2015-10-25 02:21:47</td>\n",
       "      <td>Rynek</td>\n",
       "      <td>Dworzec Mikołajów</td>\n",
       "    </tr>\n",
       "    <tr>\n",
       "      <th>787281</th>\n",
       "      <td>787282</td>\n",
       "      <td>57167</td>\n",
       "      <td>2015-10-25 02:39:30</td>\n",
       "      <td>2015-10-25 02:12:04</td>\n",
       "      <td>Plac Grunwaldzki - Polaka</td>\n",
       "      <td>Świdnicka - Chrobry</td>\n",
       "    </tr>\n",
       "    <tr>\n",
       "      <th>787293</th>\n",
       "      <td>787294</td>\n",
       "      <td>57070</td>\n",
       "      <td>2015-10-25 02:59:10</td>\n",
       "      <td>2015-10-25 02:11:12</td>\n",
       "      <td>Plac Uniwersytecki</td>\n",
       "      <td>Sienkiewicza - Piastowska</td>\n",
       "    </tr>\n",
       "    <tr>\n",
       "      <th>787294</th>\n",
       "      <td>787295</td>\n",
       "      <td>57427</td>\n",
       "      <td>2015-10-25 02:59:43</td>\n",
       "      <td>2015-10-25 02:07:00</td>\n",
       "      <td>Arkady</td>\n",
       "      <td>Sky Tower</td>\n",
       "    </tr>\n",
       "  </tbody>\n",
       "</table>\n",
       "</div>"
      ],
      "text/plain": [
       "          L.p.  Numer roweru        Data wynajmu         Data zwrotu  \\\n",
       "787264  787265         57490 2015-10-25 02:23:55 2015-10-25 02:21:33   \n",
       "787266  787267         57257 2015-10-25 02:26:04 2015-10-25 02:21:47   \n",
       "787281  787282         57167 2015-10-25 02:39:30 2015-10-25 02:12:04   \n",
       "787293  787294         57070 2015-10-25 02:59:10 2015-10-25 02:11:12   \n",
       "787294  787295         57427 2015-10-25 02:59:43 2015-10-25 02:07:00   \n",
       "\n",
       "                   Stacja wynajmu              Stacja zwrotu  \n",
       "787264                      Rynek          Dworzec Mikołajów  \n",
       "787266                      Rynek          Dworzec Mikołajów  \n",
       "787281  Plac Grunwaldzki - Polaka        Świdnicka - Chrobry  \n",
       "787293         Plac Uniwersytecki  Sienkiewicza - Piastowska  \n",
       "787294                     Arkady                  Sky Tower  "
      ]
     },
     "execution_count": 10,
     "metadata": {},
     "output_type": "execute_result"
    }
   ],
   "source": [
    "# bikes rented right before time shift from 3:00am  to 2:00am\n",
    "idx = (rentals2015_df[\"Data wynajmu\"] < '2015-10-25 03:00:00') & \\\n",
    "      (rentals2015_df[\"Data zwrotu\"] < rentals2015_df[\"Data wynajmu\"])\n",
    "rentals2015_df.loc[idx, :]"
   ]
  },
  {
   "cell_type": "code",
   "execution_count": 11,
   "metadata": {},
   "outputs": [
    {
     "name": "stdout",
     "output_type": "stream",
     "text": [
      "Data cleaning verification:\n",
      "Number of falsy records: 0\n"
     ]
    }
   ],
   "source": [
    "rentals2015_df.loc[idx, [\"Data zwrotu\"]] = rentals2015_df.loc[idx, [\"Data zwrotu\"]].apply(lambda x: x + dt.timedelta(hours=1))\n",
    "\n",
    "print(\"Data cleaning verification:\")\n",
    "print(\"Number of falsy records: {}\".format(len(rentals2015_df[ (rentals2015_df[\"Data wynajmu\"] < '2015-10-25 03:00:00') & \n",
    "                                                               (rentals2015_df[\"Data zwrotu\"] < rentals2015_df[\"Data wynajmu\"]) ])))"
   ]
  },
  {
   "cell_type": "code",
   "execution_count": 12,
   "metadata": {},
   "outputs": [
    {
     "name": "stdout",
     "output_type": "stream",
     "text": [
      "Number of falsy records: 0\n"
     ]
    }
   ],
   "source": [
    "# another invalid records\n",
    "print(\"Number of falsy records: {}\".format(len(rentals2015_df[ rentals2015_df[\"Data zwrotu\"] < rentals2015_df[\"Data wynajmu\"] ])))"
   ]
  },
  {
   "cell_type": "markdown",
   "metadata": {},
   "source": [
    "#### Year 2016"
   ]
  },
  {
   "cell_type": "markdown",
   "metadata": {},
   "source": [
    "##### 3:00am -> 2:00am"
   ]
  },
  {
   "cell_type": "code",
   "execution_count": 13,
   "metadata": {},
   "outputs": [
    {
     "data": {
      "text/html": [
       "<div>\n",
       "<style scoped>\n",
       "    .dataframe tbody tr th:only-of-type {\n",
       "        vertical-align: middle;\n",
       "    }\n",
       "\n",
       "    .dataframe tbody tr th {\n",
       "        vertical-align: top;\n",
       "    }\n",
       "\n",
       "    .dataframe thead th {\n",
       "        text-align: right;\n",
       "    }\n",
       "</style>\n",
       "<table border=\"1\" class=\"dataframe\">\n",
       "  <thead>\n",
       "    <tr style=\"text-align: right;\">\n",
       "      <th></th>\n",
       "      <th>L.p.</th>\n",
       "      <th>Numer roweru</th>\n",
       "      <th>Data wynajmu</th>\n",
       "      <th>Data zwrotu</th>\n",
       "      <th>Stacja wynajmu</th>\n",
       "      <th>Stacja zwrotu</th>\n",
       "    </tr>\n",
       "  </thead>\n",
       "  <tbody>\n",
       "    <tr>\n",
       "      <th>979885</th>\n",
       "      <td>979886</td>\n",
       "      <td>57378</td>\n",
       "      <td>2016-10-30 02:59:58</td>\n",
       "      <td>2016-10-30 02:05:56</td>\n",
       "      <td>Dworzec Mikołajów</td>\n",
       "      <td>Dworzec Mikołajów</td>\n",
       "    </tr>\n",
       "    <tr>\n",
       "      <th>979887</th>\n",
       "      <td>979888</td>\n",
       "      <td>57666</td>\n",
       "      <td>2016-10-30 02:57:10</td>\n",
       "      <td>2016-10-30 02:07:34</td>\n",
       "      <td>Jedności Narodowej - Nowowiejska</td>\n",
       "      <td>Jedności Narodowej - Nowowiejska</td>\n",
       "    </tr>\n",
       "    <tr>\n",
       "      <th>979888</th>\n",
       "      <td>979889</td>\n",
       "      <td>57680</td>\n",
       "      <td>2016-10-30 02:56:29</td>\n",
       "      <td>2016-10-30 02:08:54</td>\n",
       "      <td>Jedności Narodowej - Nowowiejska</td>\n",
       "      <td>Jedności Narodowej - Nowowiejska</td>\n",
       "    </tr>\n",
       "    <tr>\n",
       "      <th>979889</th>\n",
       "      <td>979890</td>\n",
       "      <td>57783</td>\n",
       "      <td>2016-10-30 02:58:25</td>\n",
       "      <td>2016-10-30 02:14:12</td>\n",
       "      <td>Sienkiewicza - Wyszyńskiego</td>\n",
       "      <td>Sienkiewicza - Wyszyńskiego</td>\n",
       "    </tr>\n",
       "  </tbody>\n",
       "</table>\n",
       "</div>"
      ],
      "text/plain": [
       "          L.p.  Numer roweru        Data wynajmu         Data zwrotu  \\\n",
       "979885  979886         57378 2016-10-30 02:59:58 2016-10-30 02:05:56   \n",
       "979887  979888         57666 2016-10-30 02:57:10 2016-10-30 02:07:34   \n",
       "979888  979889         57680 2016-10-30 02:56:29 2016-10-30 02:08:54   \n",
       "979889  979890         57783 2016-10-30 02:58:25 2016-10-30 02:14:12   \n",
       "\n",
       "                          Stacja wynajmu                     Stacja zwrotu  \n",
       "979885                 Dworzec Mikołajów                 Dworzec Mikołajów  \n",
       "979887  Jedności Narodowej - Nowowiejska  Jedności Narodowej - Nowowiejska  \n",
       "979888  Jedności Narodowej - Nowowiejska  Jedności Narodowej - Nowowiejska  \n",
       "979889       Sienkiewicza - Wyszyńskiego       Sienkiewicza - Wyszyńskiego  "
      ]
     },
     "execution_count": 13,
     "metadata": {},
     "output_type": "execute_result"
    }
   ],
   "source": [
    "# bikes rented right before time shift from 3:00am  to 2:00am\n",
    "idx = (rentals2016_df[\"Data wynajmu\"] > '2016-10-30 00:00:00') & \\\n",
    "      (rentals2016_df[\"Data wynajmu\"] < '2016-10-30 03:00:00') & \\\n",
    "      (rentals2016_df[\"Data zwrotu\"] < rentals2016_df[\"Data wynajmu\"])\n",
    "rentals2016_df.loc[idx, :]"
   ]
  },
  {
   "cell_type": "code",
   "execution_count": 14,
   "metadata": {},
   "outputs": [
    {
     "name": "stdout",
     "output_type": "stream",
     "text": [
      "Data cleaning verification:\n",
      "Number of falsy records: 0\n"
     ]
    }
   ],
   "source": [
    "rentals2016_df.loc[idx, [\"Data zwrotu\"]] = rentals2016_df.loc[idx, [\"Data zwrotu\"]].apply(lambda x: x + dt.timedelta(hours=1))\n",
    "\n",
    "print(\"Data cleaning verification:\")\n",
    "print(\"Number of falsy records: {}\".format(len(rentals2016_df.loc[  (rentals2016_df[\"Data wynajmu\"] > '2016-10-30 00:00:00') & \\\n",
    "                                                                    (rentals2016_df[\"Data wynajmu\"] < '2016-10-30 03:00:00') & \\\n",
    "                                                                    (rentals2016_df[\"Data zwrotu\"] < rentals2016_df[\"Data wynajmu\"])  ])))"
   ]
  },
  {
   "cell_type": "markdown",
   "metadata": {},
   "source": [
    "##### 2:00am -> 3:00am"
   ]
  },
  {
   "cell_type": "code",
   "execution_count": 15,
   "metadata": {},
   "outputs": [
    {
     "data": {
      "text/html": [
       "<div>\n",
       "<style scoped>\n",
       "    .dataframe tbody tr th:only-of-type {\n",
       "        vertical-align: middle;\n",
       "    }\n",
       "\n",
       "    .dataframe tbody tr th {\n",
       "        vertical-align: top;\n",
       "    }\n",
       "\n",
       "    .dataframe thead th {\n",
       "        text-align: right;\n",
       "    }\n",
       "</style>\n",
       "<table border=\"1\" class=\"dataframe\">\n",
       "  <thead>\n",
       "    <tr style=\"text-align: right;\">\n",
       "      <th></th>\n",
       "      <th>L.p.</th>\n",
       "      <th>Numer roweru</th>\n",
       "      <th>Data wynajmu</th>\n",
       "      <th>Data zwrotu</th>\n",
       "      <th>Stacja wynajmu</th>\n",
       "      <th>Stacja zwrotu</th>\n",
       "    </tr>\n",
       "  </thead>\n",
       "  <tbody>\n",
       "    <tr>\n",
       "      <th>35640</th>\n",
       "      <td>35641</td>\n",
       "      <td>57075</td>\n",
       "      <td>2016-03-27 01:51:31</td>\n",
       "      <td>2016-03-27 03:01:13</td>\n",
       "      <td>Kredka i Ołówek</td>\n",
       "      <td>Kredka i Ołówek</td>\n",
       "    </tr>\n",
       "    <tr>\n",
       "      <th>35641</th>\n",
       "      <td>35642</td>\n",
       "      <td>57778</td>\n",
       "      <td>2016-03-27 01:51:21</td>\n",
       "      <td>2016-03-27 03:01:23</td>\n",
       "      <td>Żmigrodzka / Kasprowicza</td>\n",
       "      <td>Żmigrodzka / Kasprowicza</td>\n",
       "    </tr>\n",
       "    <tr>\n",
       "      <th>35642</th>\n",
       "      <td>35643</td>\n",
       "      <td>57580</td>\n",
       "      <td>2016-03-27 01:55:16</td>\n",
       "      <td>2016-03-27 03:06:22</td>\n",
       "      <td>Armii Krajowej - Borowska</td>\n",
       "      <td>Armii Krajowej - Borowska</td>\n",
       "    </tr>\n",
       "  </tbody>\n",
       "</table>\n",
       "</div>"
      ],
      "text/plain": [
       "        L.p.  Numer roweru        Data wynajmu         Data zwrotu  \\\n",
       "35640  35641         57075 2016-03-27 01:51:31 2016-03-27 03:01:13   \n",
       "35641  35642         57778 2016-03-27 01:51:21 2016-03-27 03:01:23   \n",
       "35642  35643         57580 2016-03-27 01:55:16 2016-03-27 03:06:22   \n",
       "\n",
       "                  Stacja wynajmu              Stacja zwrotu  \n",
       "35640            Kredka i Ołówek            Kredka i Ołówek  \n",
       "35641   Żmigrodzka / Kasprowicza   Żmigrodzka / Kasprowicza  \n",
       "35642  Armii Krajowej - Borowska  Armii Krajowej - Borowska  "
      ]
     },
     "execution_count": 15,
     "metadata": {},
     "output_type": "execute_result"
    }
   ],
   "source": [
    "# bikes rented right before time shift from 2:00am to 3:00am\n",
    "idx = (rentals2016_df[\"Data wynajmu\"] < '2016-03-27 02:00:00') & (rentals2016_df[\"Data zwrotu\"] > '2016-03-27 03:00:00')\n",
    "rentals2016_df.loc[idx, :]"
   ]
  },
  {
   "cell_type": "code",
   "execution_count": 16,
   "metadata": {},
   "outputs": [],
   "source": [
    "rentals2016_df.loc[idx, [\"Data zwrotu\"]] = rentals2016_df.loc[idx, [\"Data zwrotu\"]].apply(lambda x: x + dt.timedelta(hours=-1))"
   ]
  },
  {
   "cell_type": "code",
   "execution_count": 17,
   "metadata": {},
   "outputs": [
    {
     "name": "stdout",
     "output_type": "stream",
     "text": [
      "Data cleaning verification:\n",
      "Number of falsy records: 0\n"
     ]
    }
   ],
   "source": [
    "print(\"Data cleaning verification:\")\n",
    "print(\"Number of falsy records: {}\".format(len(rentals2016_df[ (rentals2016_df[\"Data wynajmu\"] < '2016-03-27 02:00:00') & \n",
    "                                                               (rentals2016_df[\"Data zwrotu\"] > '2016-03-27 03:00:00') ])))"
   ]
  },
  {
   "cell_type": "code",
   "execution_count": 18,
   "metadata": {},
   "outputs": [
    {
     "data": {
      "text/html": [
       "<div>\n",
       "<style scoped>\n",
       "    .dataframe tbody tr th:only-of-type {\n",
       "        vertical-align: middle;\n",
       "    }\n",
       "\n",
       "    .dataframe tbody tr th {\n",
       "        vertical-align: top;\n",
       "    }\n",
       "\n",
       "    .dataframe thead th {\n",
       "        text-align: right;\n",
       "    }\n",
       "</style>\n",
       "<table border=\"1\" class=\"dataframe\">\n",
       "  <thead>\n",
       "    <tr style=\"text-align: right;\">\n",
       "      <th></th>\n",
       "      <th>L.p.</th>\n",
       "      <th>Numer roweru</th>\n",
       "      <th>Data wynajmu</th>\n",
       "      <th>Data zwrotu</th>\n",
       "      <th>Stacja wynajmu</th>\n",
       "      <th>Stacja zwrotu</th>\n",
       "    </tr>\n",
       "  </thead>\n",
       "  <tbody>\n",
       "    <tr>\n",
       "      <th>299038</th>\n",
       "      <td>299039</td>\n",
       "      <td>57222</td>\n",
       "      <td>2016-05-25 14:30:32</td>\n",
       "      <td>2016-05-25 14:30:30</td>\n",
       "      <td>Sky Tower</td>\n",
       "      <td>Sky Tower</td>\n",
       "    </tr>\n",
       "    <tr>\n",
       "      <th>725195</th>\n",
       "      <td>725196</td>\n",
       "      <td>57689</td>\n",
       "      <td>2016-08-16 11:00:37</td>\n",
       "      <td>2016-08-16 11:00:33</td>\n",
       "      <td>Powstańców Śląskich - Hallera</td>\n",
       "      <td>Powstańców Śląskich - Hallera</td>\n",
       "    </tr>\n",
       "    <tr>\n",
       "      <th>725576</th>\n",
       "      <td>725577</td>\n",
       "      <td>57213</td>\n",
       "      <td>2016-08-16 13:19:26</td>\n",
       "      <td>2016-08-16 13:19:24</td>\n",
       "      <td>Rynek</td>\n",
       "      <td>Rynek</td>\n",
       "    </tr>\n",
       "  </tbody>\n",
       "</table>\n",
       "</div>"
      ],
      "text/plain": [
       "          L.p.  Numer roweru        Data wynajmu         Data zwrotu  \\\n",
       "299038  299039         57222 2016-05-25 14:30:32 2016-05-25 14:30:30   \n",
       "725195  725196         57689 2016-08-16 11:00:37 2016-08-16 11:00:33   \n",
       "725576  725577         57213 2016-08-16 13:19:26 2016-08-16 13:19:24   \n",
       "\n",
       "                       Stacja wynajmu                  Stacja zwrotu  \n",
       "299038                      Sky Tower                      Sky Tower  \n",
       "725195  Powstańców Śląskich - Hallera  Powstańców Śląskich - Hallera  \n",
       "725576                          Rynek                          Rynek  "
      ]
     },
     "execution_count": 18,
     "metadata": {},
     "output_type": "execute_result"
    }
   ],
   "source": [
    "# another invalid records\n",
    "rentals2016_df[ rentals2016_df[\"Data zwrotu\"] <= rentals2016_df[\"Data wynajmu\"] ]"
   ]
  },
  {
   "cell_type": "code",
   "execution_count": 19,
   "metadata": {},
   "outputs": [
    {
     "name": "stdout",
     "output_type": "stream",
     "text": [
      "Data cleaning verification:\n",
      "Number of falsy records: 0\n"
     ]
    }
   ],
   "source": [
    "# Rentals with negative duration time are considered as incorrect, thus will be deleted\n",
    "rentals2016_df.drop(rentals2016_df[ rentals2016_df[\"Data zwrotu\"] <= rentals2016_df[\"Data wynajmu\"] ].index, inplace=True)\n",
    "\n",
    "print(\"Data cleaning verification:\")\n",
    "print(\"Number of falsy records: {}\".format(len(rentals2016_df[ rentals2016_df[\"Data zwrotu\"] < rentals2016_df[\"Data wynajmu\"] ])))"
   ]
  },
  {
   "cell_type": "markdown",
   "metadata": {},
   "source": [
    "# Data analysis"
   ]
  },
  {
   "cell_type": "markdown",
   "metadata": {},
   "source": [
    "## Rental Seasons"
   ]
  },
  {
   "cell_type": "code",
   "execution_count": 20,
   "metadata": {},
   "outputs": [
    {
     "name": "stdout",
     "output_type": "stream",
     "text": [
      "Season 2015 started on:  2015-04-28\n",
      "Season 2015 ended on:    2015-11-30\n",
      "Season 2016 started on:  2016-03-01\n",
      "Season 2016 ended on:    2016-11-30\n"
     ]
    }
   ],
   "source": [
    "def get_season_start_date_and_end_date(df):\n",
    "    index_first = 0\n",
    "    index_last  = df.index[-1]\n",
    "\n",
    "    start_date = df.loc[index_first, \"Data wynajmu\"].date()\n",
    "    end_date   = df.loc[index_last, \"Data zwrotu\"].date()\n",
    "    return start_date, end_date\n",
    "\n",
    "rentals2015_start_date, rentals2015_end_date = get_season_start_date_and_end_date(rentals2015_df)\n",
    "print('Season 2015 started on: ', rentals2015_start_date)\n",
    "print('Season 2015 ended on:   ', rentals2015_end_date)\n",
    "\n",
    "rentals2016_start_date, rentals2016_end_date = get_season_start_date_and_end_date(rentals2016_df)\n",
    "print('Season 2016 started on: ', rentals2016_start_date)\n",
    "print('Season 2016 ended on:   ', rentals2016_end_date)"
   ]
  },
  {
   "cell_type": "markdown",
   "metadata": {},
   "source": [
    "## Number of available bikes"
   ]
  },
  {
   "cell_type": "code",
   "execution_count": 21,
   "metadata": {},
   "outputs": [
    {
     "name": "stdout",
     "output_type": "stream",
     "text": [
      "Number of bikes in 2015: 806\n",
      "Number of bikes in 2016: 783 (change: -2.85% year-over-year)\n"
     ]
    }
   ],
   "source": [
    "unique_bikes_2015 = len(rentals2015_df[\"Numer roweru\"].unique())\n",
    "unique_bikes_2016 = len(rentals2016_df[\"Numer roweru\"].unique())\n",
    "\n",
    "unique_bikes_yoy_2015_2016 = (unique_bikes_2016-unique_bikes_2015)*100/unique_bikes_2015\n",
    "\n",
    "print('Number of bikes in 2015: {}'.format(unique_bikes_2015))\n",
    "print('Number of bikes in 2016: {} (change: {:.2f}% year-over-year)'.format(unique_bikes_2016, unique_bikes_yoy_2015_2016))"
   ]
  },
  {
   "cell_type": "markdown",
   "metadata": {},
   "source": [
    "**DATA INTERPRETATION**: This is interesting, the numer of bikes that were used in 2016 slightly decreased compared to 2015. City bikes are not popular in Wrocław? Luckily, this is not the downward trend, as the number of bikes increased up to 820 in [2018](https://wroclawskirower.pl/en/)."
   ]
  },
  {
   "cell_type": "markdown",
   "metadata": {},
   "source": [
    "## Number of rentals"
   ]
  },
  {
   "cell_type": "code",
   "execution_count": 22,
   "metadata": {},
   "outputs": [
    {
     "name": "stdout",
     "output_type": "stream",
     "text": [
      "Number of all rentals in 2015: 843904\n",
      "Number of all rentals in 2016: 1017192 (change: 20.53% year-over-year)\n"
     ]
    }
   ],
   "source": [
    "total_rentals_2015 = rentals2015_df.shape[0]\n",
    "total_rentals_2016 = rentals2016_df.shape[0]\n",
    "\n",
    "total_rentals_yoy_2015_2016 = (total_rentals_2016-total_rentals_2015)*100/total_rentals_2015\n",
    "\n",
    "print('Number of all rentals in 2015: {}'.format(total_rentals_2015))\n",
    "print('Number of all rentals in 2016: {} (change: {:.2f}% year-over-year)'.format(total_rentals_2016, total_rentals_yoy_2015_2016))"
   ]
  },
  {
   "cell_type": "markdown",
   "metadata": {},
   "source": [
    "## Length of time of bike rental"
   ]
  },
  {
   "cell_type": "markdown",
   "metadata": {},
   "source": [
    "### 2015"
   ]
  },
  {
   "cell_type": "code",
   "execution_count": 23,
   "metadata": {},
   "outputs": [
    {
     "data": {
      "text/plain": [
       "count                    843904\n",
       "mean     0 days 00:16:44.026968\n",
       "std      0 days 00:44:33.303526\n",
       "min             0 days 00:00:01\n",
       "25%             0 days 00:06:38\n",
       "50%             0 days 00:10:42\n",
       "75%             0 days 00:15:44\n",
       "max             5 days 17:26:32\n",
       "Name: Długość wynajmu, dtype: object"
      ]
     },
     "execution_count": 23,
     "metadata": {},
     "output_type": "execute_result"
    }
   ],
   "source": [
    "rentals2015_df[\"Długość wynajmu\"] = rentals2015_df[\"Data zwrotu\"] - rentals2015_df[\"Data wynajmu\"]\n",
    "rentals2015_df[\"Długość wynajmu\"].describe()"
   ]
  },
  {
   "cell_type": "code",
   "execution_count": 24,
   "metadata": {},
   "outputs": [
    {
     "data": {
      "text/plain": [
       "count                   1017192\n",
       "mean     0 days 00:16:02.843418\n",
       "std      0 days 00:36:38.278202\n",
       "min             0 days 00:00:01\n",
       "25%             0 days 00:06:42\n",
       "50%             0 days 00:10:38\n",
       "75%             0 days 00:15:30\n",
       "max            13 days 05:09:11\n",
       "Name: Długość wynajmu, dtype: object"
      ]
     },
     "execution_count": 24,
     "metadata": {},
     "output_type": "execute_result"
    }
   ],
   "source": [
    "rentals2016_df[\"Długość wynajmu\"] = rentals2016_df[\"Data zwrotu\"] - rentals2016_df[\"Data wynajmu\"]\n",
    "rentals2016_df[\"Długość wynajmu\"].describe()"
   ]
  },
  {
   "cell_type": "code",
   "execution_count": 25,
   "metadata": {},
   "outputs": [
    {
     "name": "stdout",
     "output_type": "stream",
     "text": [
      "Total rental time in 2015: 9806 days 17:46:15\n"
     ]
    }
   ],
   "source": [
    "total_rental_time_2015 = rentals2015_df[\"Długość wynajmu\"].sum()\n",
    "print(\"Total rental time in 2015: {}\".format(total_rental_time_2015))"
   ]
  },
  {
   "cell_type": "code",
   "execution_count": 26,
   "metadata": {},
   "outputs": [
    {
     "name": "stdout",
     "output_type": "stream",
     "text": [
      "Total rental time in 2016: 11335 days 14:37:03 (change: 15.59% year-over-year)\n"
     ]
    }
   ],
   "source": [
    "total_rental_time_2016 = rentals2016_df[\"Długość wynajmu\"].sum()\n",
    "total_rental_time_yoy_2015_2016 = (total_rental_time_2016.total_seconds()-total_rental_time_2015.total_seconds())*100/total_rental_time_2015.total_seconds()\n",
    "print(\"Total rental time in 2016: {} (change: {:.2f}% year-over-year)\".format(total_rental_time_2016, total_rental_time_yoy_2015_2016))"
   ]
  },
  {
   "cell_type": "code",
   "execution_count": 27,
   "metadata": {},
   "outputs": [
    {
     "name": "stdout",
     "output_type": "stream",
     "text": [
      "In 2015, 85% of users rented bike for max 20 minutes.\n",
      "In 2016, 86% of users rented bike for max 20 minutes.\n"
     ]
    }
   ],
   "source": [
    "def get_percentile_when_grace_period_reached(data):\n",
    "    grace_period = 20*60         # first 20 minutes of rental time is free\n",
    "    percentile = 1\n",
    "    val = 0\n",
    "    while val <= grace_period:\n",
    "        if (percentile == 100):\n",
    "            break;\n",
    "        percentile += 1\n",
    "        val = np.percentile(data, percentile, axis=0)\n",
    "        #print('percentile: {}, value: {}'.format(percentile, val))\n",
    "    return percentile-1\n",
    "\n",
    "percentile_2015 = get_percentile_when_grace_period_reached(rentals2015_df[\"Długość wynajmu\"].dt.total_seconds().values)\n",
    "percentile_2016 = get_percentile_when_grace_period_reached(rentals2016_df[\"Długość wynajmu\"].dt.total_seconds().values)\n",
    "        \n",
    "print(\"In 2015, {}% of users rented bike for max 20 minutes.\".format(percentile_2015))\n",
    "print(\"In 2016, {}% of users rented bike for max 20 minutes.\".format(percentile_2016))"
   ]
  },
  {
   "cell_type": "code",
   "execution_count": 28,
   "metadata": {},
   "outputs": [
    {
     "data": {
      "image/png": "[encoded data removed]",
      "text/plain": [
       "<Figure size 1296x432 with 1 Axes>"
      ]
     },
     "metadata": {
      "image/png": {
       "height": 386,
       "width": 1073
      }
     },
     "output_type": "display_data"
    }
   ],
   "source": [
    "x_2015 = rentals2015_df[\"Długość wynajmu\"].dt.total_seconds().values // 60 # in minutes\n",
    "x_2016 = rentals2016_df[\"Długość wynajmu\"].dt.total_seconds().values // 60 # in minutes\n",
    "\n",
    "hours_threshold = 1\n",
    "x_2015_trimmed = x_2015[ np.where(x_2015 <= hours_threshold*60) ] \n",
    "x_2016_trimmed = x_2016[ np.where(x_2016 <= hours_threshold*60) ]\n",
    "\n",
    "\n",
    "plt.figure(figsize=(18, 6))\n",
    "plt.style.use('seaborn-deep')\n",
    "plt.hist([x_2015_trimmed, x_2016_trimmed], \n",
    "         bins=hours_threshold*60, \n",
    "         label=['year 2015', 'year 2016']);\n",
    "plt.axvline(rentals2016_df[\"Długość wynajmu\"].describe()[1].total_seconds() // 60,\n",
    "           linestyle='dashed',\n",
    "           color='red',\n",
    "           label='Mean rental time')\n",
    "\n",
    "plt.axvline(20,\n",
    "           linestyle='dashed',\n",
    "           color='orange',\n",
    "           label='Grace period (20 minutes)')\n",
    "\n",
    "plt.title(\"Histogram of bike rentals \")\n",
    "plt.xlabel(\"Rental duration (in minutes)\")\n",
    "plt.ylabel(\"Number of rentals\")\n",
    "plt.legend()\n",
    "plt.grid(True)\n",
    "plt.show()"
   ]
  },
  {
   "cell_type": "markdown",
   "metadata": {},
   "source": [
    "**DATA INTERPRETATION**\n",
    "* Average duration for bike rental is approx. 16 minutes, but usually people rent bikes for around 10.5 minutes.\n",
    "* 85% of all rentals in 2015, and 86% in 2016 were free of charge (85% in 2015, 86% in 2016)."
   ]
  },
  {
   "cell_type": "markdown",
   "metadata": {},
   "source": [
    "### Rentals made by early adopters"
   ]
  },
  {
   "cell_type": "markdown",
   "metadata": {},
   "source": [
    "Assumption: Rentals with duration less that 1 minute as considered to be test rides made by early adopters."
   ]
  },
  {
   "cell_type": "code",
   "execution_count": 29,
   "metadata": {},
   "outputs": [
    {
     "name": "stdout",
     "output_type": "stream",
     "text": [
      "Number of test rides in 2015: 50655 (6.00% of all).\n",
      "Number of test rides in 2016: 59278 (5.83% of all).\n"
     ]
    }
   ],
   "source": [
    "test_rentals_2015_idx = rentals2015_df[ (rentals2015_df[\"Długość wynajmu\"] < '00:01:00')]\n",
    "print('Number of test rides in 2015: {} ({:.2f}% of all).'.format(len(test_rentals_2015_idx), len(test_rentals_2015_idx)*100 / total_rentals_2015))\n",
    "\n",
    "test_rentals_2016_idx = rentals2016_df[ (rentals2016_df[\"Długość wynajmu\"] < '00:01:00')]\n",
    "print('Number of test rides in 2016: {} ({:.2f}% of all).'.format(len(test_rentals_2016_idx), len(test_rentals_2016_idx)*100 / total_rentals_2016))"
   ]
  }
 ],
 "metadata": {
  "kernelspec": {
   "display_name": "Python 3",
   "language": "python",
   "name": "python3"
  },
  "language_info": {
   "codemirror_mode": {
    "name": "ipython",
    "version": 3
   },
   "file_extension": ".py",
   "mimetype": "text/x-python",
   "name": "python",
   "nbconvert_exporter": "python",
   "pygments_lexer": "ipython3",
   "version": "3.6.5"
  }
 },
 "nbformat": 4,
 "nbformat_minor": 2
}
