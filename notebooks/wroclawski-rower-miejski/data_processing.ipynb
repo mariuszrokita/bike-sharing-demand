{
 "cells": [
  {
   "cell_type": "code",
   "execution_count": 1,
   "metadata": {
    "ExecuteTime": {
     "end_time": "2018-08-31T09:55:09.498988Z",
     "start_time": "2018-08-31T09:55:08.723379Z"
    }
   },
   "outputs": [],
   "source": [
    "import datetime as dt\n",
    "import numpy    as np\n",
    "import os.path\n",
    "import pandas   as pd\n",
    "import random   as rand\n",
    "import seaborn  as sns\n",
    "from pytz import *\n",
    "\n",
    "%matplotlib inline\n",
    "%config InlineBackend.figure_format = 'retina'"
   ]
  },
  {
   "cell_type": "code",
   "execution_count": 2,
   "metadata": {
    "ExecuteTime": {
     "end_time": "2018-08-31T09:55:10.947919Z",
     "start_time": "2018-08-31T09:55:10.945007Z"
    }
   },
   "outputs": [],
   "source": [
    "fulldata2015_filepath = '../../data/raw/wroclawski-rower-miejski/wypozyczenia_wrm-sezon2015.xlsx'\n",
    "sample2015_filepath   = '../../data/raw/wroclawski-rower-miejski/wypozyczenia_wrm-sezon2015_sample.xlsx'\n",
    "\n",
    "fulldata2016_filepath = '../../data/raw/wroclawski-rower-miejski/wypozyczenia_wrm-sezon2016.xlsx'\n",
    "sample2016_filepath   = '../../data/raw/wroclawski-rower-miejski/wypozyczenia_wrm-sezon2016_sample.xlsx'\n",
    "\n",
    "use_sample = True"
   ]
  },
  {
   "cell_type": "markdown",
   "metadata": {},
   "source": [
    "## Bike rentals"
   ]
  },
  {
   "cell_type": "code",
   "execution_count": 3,
   "metadata": {
    "ExecuteTime": {
     "end_time": "2018-08-31T09:55:15.203685Z",
     "start_time": "2018-08-31T09:55:15.134784Z"
    }
   },
   "outputs": [],
   "source": [
    "def create_sample(fulldata_filepath, sample_filepath, number_of_samples=98):\n",
    "    \"\"\"\n",
    "    Sample will contain first and last record and other random records.\n",
    "    \"\"\"\n",
    "    df = pd.read_excel(fulldata_filepath)\n",
    "    sample_indices = [0, df.index[-1]] + rand.sample(range(1, df.index[-2]), number_of_samples)\n",
    "    sample_indices.sort()\n",
    "    sample_df = df.iloc[sample_indices, :]\n",
    "    sample_df.to_excel(sample_filepath, index=False)\n",
    "\n",
    "if use_sample:\n",
    "    if not os.path.exists(sample2015_filepath):\n",
    "        create_sample(fulldata2015_filepath, sample2015_filepath)\n",
    "\n",
    "    if not os.path.exists(sample2016_filepath):\n",
    "        create_sample(fulldata2016_filepath, sample2016_filepath)\n",
    "        \n",
    "    rentals2015_df = pd.read_excel(sample2015_filepath)      \n",
    "    rentals2016_df = pd.read_excel(sample2016_filepath)    \n",
    "else:\n",
    "    rentals2015_df = pd.read_excel(fulldata2015_filepath)\n",
    "    rentals2016_df = pd.read_excel(fulldata2016_filepath)"
   ]
  },
  {
   "cell_type": "code",
   "execution_count": 4,
   "metadata": {
    "ExecuteTime": {
     "end_time": "2018-08-31T09:55:18.347307Z",
     "start_time": "2018-08-31T09:55:18.343890Z"
    }
   },
   "outputs": [],
   "source": [
    "rentals = pd.concat([rentals2015_df, rentals2016_df])"
   ]
  },
  {
   "cell_type": "markdown",
   "metadata": {},
   "source": [
    "#### Feature engineering"
   ]
  },
  {
   "cell_type": "code",
   "execution_count": 5,
   "metadata": {
    "ExecuteTime": {
     "end_time": "2018-08-31T09:55:24.188855Z",
     "start_time": "2018-08-31T09:55:24.183774Z"
    }
   },
   "outputs": [],
   "source": [
    "rentals['Godzina wynajmu'] = rentals['Data wynajmu'].apply(lambda x: dt.datetime(x.year, x.month, x.day, x.hour, 0))"
   ]
  },
  {
   "cell_type": "code",
   "execution_count": 6,
   "metadata": {
    "ExecuteTime": {
     "end_time": "2018-08-31T09:55:25.611116Z",
     "start_time": "2018-08-31T09:55:25.599779Z"
    }
   },
   "outputs": [],
   "source": [
    "rentals_per_hour = pd.DataFrame(rentals.groupby('Godzina wynajmu').count()['Numer roweru']).reset_index()\n",
    "rentals_per_hour.columns = ['Godzina wynajmu', 'Ilość wypożyczeń']\n",
    "\n",
    "rentals = rentals.join(rentals_per_hour.set_index('Godzina wynajmu'), on='Godzina wynajmu', how='left')"
   ]
  },
  {
   "cell_type": "code",
   "execution_count": null,
   "metadata": {},
   "outputs": [],
   "source": []
  },
  {
   "cell_type": "code",
   "execution_count": null,
   "metadata": {},
   "outputs": [],
   "source": []
  },
  {
   "cell_type": "code",
   "execution_count": null,
   "metadata": {},
   "outputs": [],
   "source": []
  },
  {
   "cell_type": "code",
   "execution_count": 7,
   "metadata": {
    "ExecuteTime": {
     "end_time": "2018-08-31T09:55:31.230265Z",
     "start_time": "2018-08-31T09:55:31.222080Z"
    }
   },
   "outputs": [
    {
     "name": "stdout",
     "output_type": "stream",
     "text": [
      "Season 2015 started on:  2015-04-28\n",
      "Season 2015 ended on:    2015-11-30\n",
      "Season 2016 started on:  2016-03-01\n",
      "Season 2016 ended on:    2016-11-30\n"
     ]
    }
   ],
   "source": [
    "def get_season_start_date_and_end_date(df):\n",
    "    index_first = 0\n",
    "    index_last  = df.index[-1]\n",
    "\n",
    "    start_date = df.loc[index_first, \"Data wynajmu\"].date()\n",
    "    end_date   = df.loc[index_last, \"Data zwrotu\"].date()\n",
    "    return start_date, end_date\n",
    "\n",
    "rentals2015_start_date, rentals2015_end_date = get_season_start_date_and_end_date(rentals2015_df)\n",
    "print('Season 2015 started on: ', rentals2015_start_date)\n",
    "print('Season 2015 ended on:   ', rentals2015_end_date)\n",
    "\n",
    "rentals2016_start_date, rentals2016_end_date = get_season_start_date_and_end_date(rentals2016_df)\n",
    "print('Season 2016 started on: ', rentals2016_start_date)\n",
    "print('Season 2016 ended on:   ', rentals2016_end_date)"
   ]
  },
  {
   "cell_type": "code",
   "execution_count": 8,
   "metadata": {
    "ExecuteTime": {
     "end_time": "2018-08-31T09:55:32.614655Z",
     "start_time": "2018-08-31T09:55:32.609060Z"
    }
   },
   "outputs": [],
   "source": [
    "# Our final dataset will have rentals data aggregated 'per hour'\n",
    "year2015 = pd.date_range(rentals2015_start_date, rentals2015_end_date + dt.timedelta(days=1), freq='H')\n",
    "year2016 = pd.date_range(rentals2016_start_date, rentals2016_end_date + dt.timedelta(days=1), freq='H')\n",
    "dates_frame = pd.DataFrame({'date': year2015.append(year2016)})"
   ]
  },
  {
   "cell_type": "markdown",
   "metadata": {},
   "source": [
    "## Weather dataset"
   ]
  },
  {
   "cell_type": "code",
   "execution_count": null,
   "metadata": {
    "ExecuteTime": {
     "end_time": "2018-08-30T10:13:48.147549Z",
     "start_time": "2018-08-30T10:13:47.924434Z"
    }
   },
   "outputs": [],
   "source": [
    "# load data\n",
    "weather_df = pd.read_csv('../../data/raw/wroclawski-rower-miejski/dane_pogoda.csv', sep=';')"
   ]
  },
  {
   "cell_type": "code",
   "execution_count": null,
   "metadata": {
    "ExecuteTime": {
     "end_time": "2018-08-30T10:13:48.393234Z",
     "start_time": "2018-08-30T10:13:48.150122Z"
    }
   },
   "outputs": [],
   "source": [
    "# TODO: fix problem with changing time zones from UTC+2 to UTC+1 and vice versa\n",
    "weather_df['correct_pl_date'] = \\\n",
    "    pd.to_datetime(weather_df['dt_iso'], format=\"%Y-%m-%d %H:%M:%S +0000 UTC\") + pd.DateOffset(hours=2)"
   ]
  },
  {
   "cell_type": "code",
   "execution_count": null,
   "metadata": {
    "ExecuteTime": {
     "end_time": "2018-08-30T10:13:48.428207Z",
     "start_time": "2018-08-30T10:13:48.395897Z"
    }
   },
   "outputs": [],
   "source": [
    "weather_df.head()"
   ]
  },
  {
   "cell_type": "code",
   "execution_count": null,
   "metadata": {
    "ExecuteTime": {
     "end_time": "2018-08-30T10:13:48.629723Z",
     "start_time": "2018-08-30T10:13:48.430412Z"
    }
   },
   "outputs": [],
   "source": [
    "weather_dataset = pd.read_csv('../../data/raw/wroclawski-rower-miejski/dane_pogoda.csv', sep=';')"
   ]
  },
  {
   "cell_type": "code",
   "execution_count": null,
   "metadata": {
    "ExecuteTime": {
     "end_time": "2018-08-30T10:13:48.654061Z",
     "start_time": "2018-08-30T10:13:48.631815Z"
    }
   },
   "outputs": [],
   "source": [
    "weather_dataset.head()"
   ]
  },
  {
   "cell_type": "code",
   "execution_count": null,
   "metadata": {
    "ExecuteTime": {
     "end_time": "2018-08-30T10:18:30.873804Z",
     "start_time": "2018-08-30T10:18:30.868407Z"
    }
   },
   "outputs": [],
   "source": [
    "weather_dataset['dt_iso'].head()"
   ]
  },
  {
   "cell_type": "code",
   "execution_count": null,
   "metadata": {
    "ExecuteTime": {
     "end_time": "2018-08-30T10:18:32.744626Z",
     "start_time": "2018-08-30T10:18:32.739822Z"
    }
   },
   "outputs": [],
   "source": [
    "year2015"
   ]
  },
  {
   "cell_type": "code",
   "execution_count": null,
   "metadata": {
    "ExecuteTime": {
     "end_time": "2018-08-30T10:18:34.493537Z",
     "start_time": "2018-08-30T10:18:34.315421Z"
    }
   },
   "outputs": [],
   "source": [
    "weather_dataset['correct_pl_date'] = pd.to_datetime(weather_dataset['dt_iso'], format=\"%Y-%m-%d %H:%M:%S +0000 UTC\") + pd.DateOffset(hours=2)"
   ]
  },
  {
   "cell_type": "code",
   "execution_count": null,
   "metadata": {
    "ExecuteTime": {
     "end_time": "2018-08-30T10:18:35.523949Z",
     "start_time": "2018-08-30T10:18:35.516606Z"
    }
   },
   "outputs": [],
   "source": [
    "weather_dataset['correct_pl_date']"
   ]
  },
  {
   "cell_type": "code",
   "execution_count": null,
   "metadata": {
    "ExecuteTime": {
     "end_time": "2018-08-30T10:18:37.050075Z",
     "start_time": "2018-08-30T10:18:37.030591Z"
    }
   },
   "outputs": [],
   "source": [
    "weather_dataset.drop_duplicates(subset=['correct_pl_date'], inplace=True)"
   ]
  },
  {
   "cell_type": "code",
   "execution_count": null,
   "metadata": {
    "ExecuteTime": {
     "end_time": "2018-08-30T10:18:37.993624Z",
     "start_time": "2018-08-30T10:18:37.972358Z"
    }
   },
   "outputs": [],
   "source": [
    "merged_dataset = pd.merge(left=dates_frame, right=weather_dataset, left_on='date', right_on='correct_pl_date', how='left')"
   ]
  },
  {
   "cell_type": "code",
   "execution_count": null,
   "metadata": {
    "ExecuteTime": {
     "end_time": "2018-08-30T10:18:38.781454Z",
     "start_time": "2018-08-30T10:18:38.764022Z"
    }
   },
   "outputs": [],
   "source": [
    "merged_dataset.isnull().sum()"
   ]
  },
  {
   "cell_type": "code",
   "execution_count": null,
   "metadata": {
    "ExecuteTime": {
     "end_time": "2018-08-30T10:18:52.326854Z",
     "start_time": "2018-08-30T10:18:39.861621Z"
    }
   },
   "outputs": [],
   "source": [
    "col_number = merged_dataset.shape[1]\n",
    "\n",
    "merged_dataset['is_na_filled'] = 0\n",
    "for index, row in merged_dataset.iterrows():\n",
    "    if pd.isnull(row['dt']):\n",
    "        merged_dataset.iloc[index, 1:col_number] = merged_dataset.iloc[index - 1, 1:col_number]\n",
    "        merged_dataset.loc[merged_dataset.index[index], 'is_na_filled'] = 1"
   ]
  },
  {
   "cell_type": "code",
   "execution_count": null,
   "metadata": {
    "ExecuteTime": {
     "end_time": "2018-08-30T10:18:56.695098Z",
     "start_time": "2018-08-30T10:18:56.683254Z"
    }
   },
   "outputs": [],
   "source": [
    "columns_with_na = list(merged_dataset.loc[:, merged_dataset.isnull().sum() > 0].columns)"
   ]
  },
  {
   "cell_type": "code",
   "execution_count": null,
   "metadata": {
    "ExecuteTime": {
     "end_time": "2018-08-30T10:18:57.912486Z",
     "start_time": "2018-08-30T10:18:57.907750Z"
    }
   },
   "outputs": [],
   "source": [
    "merged_dataset.drop(columns_with_na + ['weather_icon', 'dt', 'dt_iso', 'correct_pl_date', 'city_id', 'weather_id'], axis=1, inplace=True)"
   ]
  },
  {
   "cell_type": "code",
   "execution_count": null,
   "metadata": {
    "ExecuteTime": {
     "end_time": "2018-08-30T10:18:59.019552Z",
     "start_time": "2018-08-30T10:18:58.978691Z"
    }
   },
   "outputs": [],
   "source": [
    "merged_dataset"
   ]
  },
  {
   "cell_type": "markdown",
   "metadata": {},
   "source": [
    "## Bike rentals"
   ]
  },
  {
   "cell_type": "code",
   "execution_count": null,
   "metadata": {
    "ExecuteTime": {
     "end_time": "2018-08-31T09:36:09.755298Z",
     "start_time": "2018-08-31T09:36:09.752310Z"
    }
   },
   "outputs": [],
   "source": [
    "#rentals2015 = pd.read_csv('wypozyczenia_wrm-sezon2015.csv', encoding = \"ISO-8859-1\", sep=';')\n",
    "#rentals2016 = pd.read_csv('wypozyczenia_WRM-sezon2016.csv', encoding = \"ISO-8859-1\", sep=';')\n",
    "#rentals = pd.concat([rentals2015_df, rentals2016_df])\n",
    "\n",
    "#rentals['rental_date'] = pd.to_datetime(rentals['Data wynajmu'], format='%d.%m.%Y %H:%M')\n",
    "\n",
    "#rentals['rental_hour'] = rentals['rental_date'].apply(lambda dt: datetime.datetime(dt.year, dt.month, dt.day, dt.hour, 0))\n",
    "\n",
    "#rentals_per_hour = pd.DataFrame(rentals.groupby('rental_hour').count()['Numer roweru']).reset_index()\n",
    "#rentals_per_hour.columns = ['rental_hour', 'rentals_no']"
   ]
  },
  {
   "cell_type": "code",
   "execution_count": null,
   "metadata": {
    "ExecuteTime": {
     "end_time": "2018-08-30T10:13:48.921887Z",
     "start_time": "2018-08-30T10:11:55.217Z"
    }
   },
   "outputs": [],
   "source": [
    "all_data = pd.merge(left=merged_dataset, right=rentals_per_hour, left_on='date', right_on='rental_hour', how='left')"
   ]
  },
  {
   "cell_type": "code",
   "execution_count": null,
   "metadata": {
    "ExecuteTime": {
     "end_time": "2018-08-30T10:13:48.922633Z",
     "start_time": "2018-08-30T10:11:55.219Z"
    }
   },
   "outputs": [],
   "source": [
    "all_data.loc[all_data['rentals_no'].isnull(),'rentals_no'] = 0"
   ]
  },
  {
   "cell_type": "code",
   "execution_count": null,
   "metadata": {
    "ExecuteTime": {
     "end_time": "2018-08-30T10:13:48.923704Z",
     "start_time": "2018-08-30T10:11:55.221Z"
    }
   },
   "outputs": [],
   "source": [
    "all_data.drop('rental_hour', axis=1, inplace=True)"
   ]
  },
  {
   "cell_type": "code",
   "execution_count": null,
   "metadata": {
    "ExecuteTime": {
     "end_time": "2018-08-30T10:13:48.924797Z",
     "start_time": "2018-08-30T10:11:55.224Z"
    }
   },
   "outputs": [],
   "source": [
    "all_data.shape"
   ]
  },
  {
   "cell_type": "code",
   "execution_count": null,
   "metadata": {
    "ExecuteTime": {
     "end_time": "2018-08-30T10:13:48.926335Z",
     "start_time": "2018-08-30T10:11:55.226Z"
    }
   },
   "outputs": [],
   "source": [
    "len(all_data['date'].unique())"
   ]
  },
  {
   "cell_type": "code",
   "execution_count": null,
   "metadata": {
    "ExecuteTime": {
     "end_time": "2018-08-30T10:13:48.927336Z",
     "start_time": "2018-08-30T10:11:55.228Z"
    }
   },
   "outputs": [],
   "source": [
    "all_data['rentals_no'].hist()"
   ]
  },
  {
   "cell_type": "code",
   "execution_count": null,
   "metadata": {
    "ExecuteTime": {
     "end_time": "2018-08-30T10:13:48.928369Z",
     "start_time": "2018-08-30T10:11:55.230Z"
    }
   },
   "outputs": [],
   "source": [
    "all_data['temp'] = all_data['temp'] - 273.15\n",
    "all_data['temp_min'] = all_data['temp_min'] - 273.15\n",
    "all_data['temp_max'] = all_data['temp_max'] - 273.15"
   ]
  },
  {
   "cell_type": "code",
   "execution_count": null,
   "metadata": {
    "ExecuteTime": {
     "end_time": "2018-08-30T10:13:48.929437Z",
     "start_time": "2018-08-30T10:11:55.234Z"
    }
   },
   "outputs": [],
   "source": [
    "all_data['is_weekend'] = all_data['date'].dt.weekday.isin([5,6])"
   ]
  },
  {
   "cell_type": "code",
   "execution_count": null,
   "metadata": {
    "ExecuteTime": {
     "end_time": "2018-08-30T10:13:48.930478Z",
     "start_time": "2018-08-30T10:11:55.236Z"
    }
   },
   "outputs": [],
   "source": [
    "# days without work\n",
    "free_days = ['2016-01-01', '2016-01-06', '2016-03-27', '2016-03-28', '2016-05-01', '2016-05-03', '2016-05-15', '2016-05-26', '2016-08-15', '2016-11-01', '2016-11-11', '2016-12-25', '2016-12-26',\n",
    "'2015-01-01', '2015-01-06', '2015-04-05', '2015-04-06', '2015-05-01', '2015-05-03', '2015-05-24', '2015-06-04', '2015-08-15', '2015-11-01', '2015-11-11', '2015-12-25', '2015-12-26']\n",
    "\n",
    "free_days_dt = [pd.Timestamp(x) for x in free_days]"
   ]
  },
  {
   "cell_type": "code",
   "execution_count": null,
   "metadata": {
    "ExecuteTime": {
     "end_time": "2018-08-30T10:13:48.932264Z",
     "start_time": "2018-08-30T10:11:55.239Z"
    }
   },
   "outputs": [],
   "source": [
    "all_data['bank_holidays'] = all_data.date.apply(lambda date: datetime.datetime(date.year, date.month, date.day) in free_days_dt)\n"
   ]
  },
  {
   "cell_type": "code",
   "execution_count": null,
   "metadata": {
    "ExecuteTime": {
     "end_time": "2018-08-30T10:13:48.933862Z",
     "start_time": "2018-08-30T10:11:55.241Z"
    }
   },
   "outputs": [],
   "source": [
    "all_data['is_not_working_day'] = all_data['bank_holidays'] | all_data['is_weekend']"
   ]
  },
  {
   "cell_type": "code",
   "execution_count": null,
   "metadata": {
    "ExecuteTime": {
     "end_time": "2018-08-30T10:13:48.934797Z",
     "start_time": "2018-08-30T10:11:55.243Z"
    }
   },
   "outputs": [],
   "source": [
    "all_data['month'] = all_data['date'].apply(lambda x: x.strftime('%b'))"
   ]
  },
  {
   "cell_type": "code",
   "execution_count": null,
   "metadata": {
    "ExecuteTime": {
     "end_time": "2018-08-30T10:13:48.935879Z",
     "start_time": "2018-08-30T10:11:55.246Z"
    }
   },
   "outputs": [],
   "source": [
    "test = all_data[all_data['date'] >= '2016-08-15']\n",
    "print(test.shape)"
   ]
  },
  {
   "cell_type": "code",
   "execution_count": null,
   "metadata": {
    "ExecuteTime": {
     "end_time": "2018-08-30T10:13:48.937090Z",
     "start_time": "2018-08-30T10:11:55.249Z"
    }
   },
   "outputs": [],
   "source": [
    "train = all_data[all_data['date'] < '2016-08-15']\n",
    "print(train.shape)"
   ]
  },
  {
   "cell_type": "code",
   "execution_count": null,
   "metadata": {
    "ExecuteTime": {
     "end_time": "2018-08-30T10:13:48.938194Z",
     "start_time": "2018-08-30T10:11:55.250Z"
    }
   },
   "outputs": [],
   "source": [
    "test.drop('rentals_no', axis=1, inplace=True)"
   ]
  },
  {
   "cell_type": "code",
   "execution_count": null,
   "metadata": {
    "ExecuteTime": {
     "end_time": "2018-08-30T10:13:48.939214Z",
     "start_time": "2018-08-30T10:11:55.252Z"
    }
   },
   "outputs": [],
   "source": [
    "print(test.shape)"
   ]
  },
  {
   "cell_type": "code",
   "execution_count": null,
   "metadata": {
    "ExecuteTime": {
     "end_time": "2018-08-30T10:13:48.940172Z",
     "start_time": "2018-08-30T10:11:55.255Z"
    }
   },
   "outputs": [],
   "source": [
    "train.to_csv('train.csv', index=False)\n",
    "test.to_csv('test.csv', index=False)"
   ]
  },
  {
   "cell_type": "code",
   "execution_count": null,
   "metadata": {
    "ExecuteTime": {
     "end_time": "2018-08-30T10:13:48.941429Z",
     "start_time": "2018-08-30T10:11:55.257Z"
    }
   },
   "outputs": [],
   "source": [
    "print(train.columns)"
   ]
  },
  {
   "cell_type": "code",
   "execution_count": null,
   "metadata": {
    "ExecuteTime": {
     "end_time": "2018-08-30T10:13:48.942616Z",
     "start_time": "2018-08-30T10:11:55.259Z"
    }
   },
   "outputs": [],
   "source": [
    "train"
   ]
  }
 ],
 "metadata": {
  "kernelspec": {
   "display_name": "Python [default]",
   "language": "python",
   "name": "python3"
  },
  "language_info": {
   "codemirror_mode": {
    "name": "ipython",
    "version": 3
   },
   "file_extension": ".py",
   "mimetype": "text/x-python",
   "name": "python",
   "nbconvert_exporter": "python",
   "pygments_lexer": "ipython3",
   "version": "3.6.6"
  }
 },
 "nbformat": 4,
 "nbformat_minor": 2
}
