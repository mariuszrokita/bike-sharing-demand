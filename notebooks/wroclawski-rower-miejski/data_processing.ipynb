{
 "cells": [
  {
   "cell_type": "code",
   "execution_count": 1,
   "metadata": {
    "ExecuteTime": {
     "end_time": "2018-08-31T09:55:09.498988Z",
     "start_time": "2018-08-31T09:55:08.723379Z"
    }
   },
   "outputs": [],
   "source": [
    "import datetime as dt\n",
    "import numpy    as np\n",
    "import os.path\n",
    "import pandas   as pd\n",
    "import random   as rand\n",
    "import seaborn  as sns\n",
    "from pytz import *\n",
    "\n",
    "%matplotlib inline\n",
    "%config InlineBackend.figure_format = 'retina'"
   ]
  },
  {
   "cell_type": "code",
   "execution_count": 2,
   "metadata": {
    "ExecuteTime": {
     "end_time": "2018-08-31T09:55:10.947919Z",
     "start_time": "2018-08-31T09:55:10.945007Z"
    }
   },
   "outputs": [],
   "source": [
    "fulldata2015_filepath = '../../data/raw/wroclawski-rower-miejski/wypozyczenia_wrm-sezon2015.xlsx'\n",
    "sample2015_filepath   = '../../data/raw/wroclawski-rower-miejski/wypozyczenia_wrm-sezon2015_sample.xlsx'\n",
    "\n",
    "fulldata2016_filepath = '../../data/raw/wroclawski-rower-miejski/wypozyczenia_wrm-sezon2016.xlsx'\n",
    "sample2016_filepath   = '../../data/raw/wroclawski-rower-miejski/wypozyczenia_wrm-sezon2016_sample.xlsx'\n",
    "\n",
    "use_sample = False"
   ]
  },
  {
   "cell_type": "markdown",
   "metadata": {},
   "source": [
    "## Bike rentals"
   ]
  },
  {
   "cell_type": "code",
   "execution_count": 3,
   "metadata": {
    "ExecuteTime": {
     "end_time": "2018-08-31T09:55:15.203685Z",
     "start_time": "2018-08-31T09:55:15.134784Z"
    },
    "code_folding": []
   },
   "outputs": [],
   "source": [
    "def create_sample(fulldata_filepath, sample_filepath, number_of_samples=98):\n",
    "    \"\"\"\n",
    "    Sample will contain first and last record and other random records.\n",
    "    \"\"\"\n",
    "    df = pd.read_excel(fulldata_filepath)\n",
    "    sample_indices = [0, df.index[-1]] + rand.sample(range(1, df.index[-2]), number_of_samples)\n",
    "    sample_indices.sort()\n",
    "    sample_df = df.iloc[sample_indices, :]\n",
    "    sample_df.to_excel(sample_filepath, index=False)\n",
    "\n",
    "if use_sample:\n",
    "    if not os.path.exists(sample2015_filepath):\n",
    "        create_sample(fulldata2015_filepath, sample2015_filepath)\n",
    "\n",
    "    if not os.path.exists(sample2016_filepath):\n",
    "        create_sample(fulldata2016_filepath, sample2016_filepath)\n",
    "        \n",
    "    rentals2015_df = pd.read_excel(sample2015_filepath)      \n",
    "    rentals2016_df = pd.read_excel(sample2016_filepath)    \n",
    "else:\n",
    "    rentals2015_df = pd.read_excel(fulldata2015_filepath)\n",
    "    rentals2016_df = pd.read_excel(fulldata2016_filepath)"
   ]
  },
  {
   "cell_type": "code",
   "execution_count": null,
   "metadata": {},
   "outputs": [],
   "source": []
  },
  {
   "cell_type": "code",
   "execution_count": null,
   "metadata": {},
   "outputs": [],
   "source": []
  },
  {
   "cell_type": "code",
   "execution_count": null,
   "metadata": {},
   "outputs": [],
   "source": []
  },
  {
   "cell_type": "code",
   "execution_count": null,
   "metadata": {},
   "outputs": [],
   "source": []
  },
  {
   "cell_type": "code",
   "execution_count": null,
   "metadata": {},
   "outputs": [],
   "source": []
  },
  {
   "cell_type": "code",
   "execution_count": null,
   "metadata": {},
   "outputs": [],
   "source": []
  },
  {
   "cell_type": "code",
   "execution_count": null,
   "metadata": {},
   "outputs": [],
   "source": []
  },
  {
   "cell_type": "code",
   "execution_count": null,
   "metadata": {},
   "outputs": [],
   "source": []
  },
  {
   "cell_type": "code",
   "execution_count": null,
   "metadata": {},
   "outputs": [],
   "source": []
  },
  {
   "cell_type": "code",
   "execution_count": null,
   "metadata": {},
   "outputs": [],
   "source": []
  },
  {
   "cell_type": "code",
   "execution_count": null,
   "metadata": {},
   "outputs": [],
   "source": []
  },
  {
   "cell_type": "code",
   "execution_count": null,
   "metadata": {},
   "outputs": [],
   "source": []
  },
  {
   "cell_type": "code",
   "execution_count": null,
   "metadata": {},
   "outputs": [],
   "source": []
  },
  {
   "cell_type": "code",
   "execution_count": null,
   "metadata": {},
   "outputs": [],
   "source": []
  },
  {
   "cell_type": "code",
   "execution_count": null,
   "metadata": {},
   "outputs": [],
   "source": []
  },
  {
   "cell_type": "code",
   "execution_count": null,
   "metadata": {},
   "outputs": [],
   "source": []
  },
  {
   "cell_type": "code",
   "execution_count": null,
   "metadata": {},
   "outputs": [],
   "source": []
  },
  {
   "cell_type": "code",
   "execution_count": null,
   "metadata": {},
   "outputs": [],
   "source": []
  },
  {
   "cell_type": "code",
   "execution_count": null,
   "metadata": {},
   "outputs": [],
   "source": []
  },
  {
   "cell_type": "code",
   "execution_count": null,
   "metadata": {
    "ExecuteTime": {
     "end_time": "2018-08-31T09:55:18.347307Z",
     "start_time": "2018-08-31T09:55:18.343890Z"
    }
   },
   "outputs": [],
   "source": [
    "rentals = pd.concat([rentals2015_df, rentals2016_df])"
   ]
  },
  {
   "cell_type": "markdown",
   "metadata": {},
   "source": [
    "#### Feature engineering"
   ]
  },
  {
   "cell_type": "code",
   "execution_count": null,
   "metadata": {
    "ExecuteTime": {
     "end_time": "2018-08-31T09:55:24.188855Z",
     "start_time": "2018-08-31T09:55:24.183774Z"
    }
   },
   "outputs": [],
   "source": [
    "rentals['Godzina wynajmu'] = rentals['Data wynajmu'].apply(lambda x: dt.datetime(x.year, x.month, x.day, x.hour, 0))"
   ]
  },
  {
   "cell_type": "code",
   "execution_count": null,
   "metadata": {
    "ExecuteTime": {
     "end_time": "2018-08-31T09:55:25.611116Z",
     "start_time": "2018-08-31T09:55:25.599779Z"
    }
   },
   "outputs": [],
   "source": [
    "rentals_per_hour = pd.DataFrame(rentals.groupby('Godzina wynajmu').count()['Numer roweru']).reset_index()\n",
    "rentals_per_hour.columns = ['Godzina wynajmu', 'Ilość wypożyczeń']\n",
    "\n",
    "rentals = rentals.join(rentals_per_hour.set_index('Godzina wynajmu'), on='Godzina wynajmu', how='left')\n",
    "rentals.loc[rentals['Ilość wypożyczeń'].isnull(), 'Ilość wypożyczeń'] = 0\n",
    "rentals.drop('Godzina wynajmu', axis=1, inplace=True)"
   ]
  },
  {
   "cell_type": "code",
   "execution_count": null,
   "metadata": {
    "ExecuteTime": {
     "end_time": "2018-08-31T09:55:31.230265Z",
     "start_time": "2018-08-31T09:55:31.222080Z"
    }
   },
   "outputs": [],
   "source": [
    "def get_season_start_date_and_end_date(df):\n",
    "    index_first = 0\n",
    "    index_last  = df.index[-1]\n",
    "\n",
    "    start_date = df.loc[index_first, \"Data wynajmu\"].date()\n",
    "    end_date   = df.loc[index_last, \"Data zwrotu\"].date()\n",
    "    return start_date, end_date\n",
    "\n",
    "rentals2015_start_date, rentals2015_end_date = get_season_start_date_and_end_date(rentals2015_df)\n",
    "print('Season 2015 started on: ', rentals2015_start_date)\n",
    "print('Season 2015 ended on:   ', rentals2015_end_date)\n",
    "\n",
    "rentals2016_start_date, rentals2016_end_date = get_season_start_date_and_end_date(rentals2016_df)\n",
    "print('Season 2016 started on: ', rentals2016_start_date)\n",
    "print('Season 2016 ended on:   ', rentals2016_end_date)"
   ]
  },
  {
   "cell_type": "code",
   "execution_count": null,
   "metadata": {
    "ExecuteTime": {
     "end_time": "2018-08-31T09:55:32.614655Z",
     "start_time": "2018-08-31T09:55:32.609060Z"
    }
   },
   "outputs": [],
   "source": [
    "# Our final dataset will have rentals data aggregated 'per hour'\n",
    "year2015 = pd.date_range(rentals2015_start_date, rentals2015_end_date + dt.timedelta(days=1), freq='H')\n",
    "year2016 = pd.date_range(rentals2016_start_date, rentals2016_end_date + dt.timedelta(days=1), freq='H')\n",
    "dates_frame = pd.DataFrame({'date': year2015.append(year2016)})"
   ]
  }
 ],
 "metadata": {
  "kernelspec": {
   "display_name": "Python 3",
   "language": "python",
   "name": "python3"
  },
  "language_info": {
   "codemirror_mode": {
    "name": "ipython",
    "version": 3
   },
   "file_extension": ".py",
   "mimetype": "text/x-python",
   "name": "python",
   "nbconvert_exporter": "python",
   "pygments_lexer": "ipython3",
   "version": "3.6.5"
  }
 },
 "nbformat": 4,
 "nbformat_minor": 2
}
