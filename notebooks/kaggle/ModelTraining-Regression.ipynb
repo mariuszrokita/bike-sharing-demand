{
 "cells": [
  {
   "cell_type": "code",
   "execution_count": 1,
   "metadata": {
    "ExecuteTime": {
     "end_time": "2018-07-20T04:35:01.702545Z",
     "start_time": "2018-07-20T04:35:00.425132Z"
    }
   },
   "outputs": [],
   "source": [
    "import datetime\n",
    "import matplotlib\n",
    "import matplotlib.pyplot as plt\n",
    "import numpy as np\n",
    "import pickle\n",
    "import pandas as pd\n",
    "import seaborn as sns\n",
    "\n",
    "from functools import partial\n",
    "from hyperopt import hp\n",
    "from hyperopt import hp, fmin, tpe, STATUS_OK, Trials, space_eval\n",
    "from sklearn.dummy import DummyRegressor\n",
    "from sklearn.ensemble import RandomForestRegressor\n",
    "from sklearn.linear_model import LinearRegression\n",
    "from sklearn.metrics import mean_absolute_error\n",
    "from sklearn.model_selection import cross_val_score\n",
    "from sklearn.model_selection import learning_curve\n",
    "from sklearn.model_selection import ShuffleSplit\n",
    "from sklearn.model_selection import train_test_split\n",
    "from sklearn.preprocessing import MinMaxScaler\n",
    "from sklearn.tree import DecisionTreeRegressor\n",
    "from xgboost import XGBRegressor\n",
    "\n",
    "%matplotlib inline"
   ]
  },
  {
   "cell_type": "code",
   "execution_count": 2,
   "metadata": {
    "ExecuteTime": {
     "end_time": "2018-07-20T04:35:01.761752Z",
     "start_time": "2018-07-20T04:35:01.704688Z"
    }
   },
   "outputs": [],
   "source": [
    "train_df = pd.read_csv('../data/raw/train.csv', parse_dates=['datetime'])\n",
    "test_df = pd.read_csv('../data/raw/test.csv', parse_dates=['datetime'])"
   ]
  },
  {
   "cell_type": "code",
   "execution_count": 3,
   "metadata": {
    "ExecuteTime": {
     "end_time": "2018-07-20T04:35:01.768774Z",
     "start_time": "2018-07-20T04:35:01.763958Z"
    }
   },
   "outputs": [
    {
     "name": "stdout",
     "output_type": "stream",
     "text": [
      "train df:\n",
      "shape: (10886, 12)\n",
      "columns: ['datetime', 'season', 'holiday', 'workingday', 'weather', 'temp', 'atemp', 'humidity', 'windspeed', 'casual', 'registered', 'count']\n",
      "\n",
      "test df:\n",
      "shape: (6493, 9)\n",
      "columns: ['datetime', 'season', 'holiday', 'workingday', 'weather', 'temp', 'atemp', 'humidity', 'windspeed']\n"
     ]
    }
   ],
   "source": [
    "print('train df:')\n",
    "print('shape:', train_df.shape)\n",
    "print('columns:', list(train_df.columns))\n",
    "print('\\ntest df:')\n",
    "print('shape:', test_df.shape)\n",
    "print('columns:', list(test_df.columns))"
   ]
  },
  {
   "cell_type": "markdown",
   "metadata": {},
   "source": [
    "**Data Fields**\n",
    "* datetime - hourly date + timestamp  \n",
    "* season - \n",
    "    * 1 = spring, \n",
    "    * 2 = summer, \n",
    "    * 3 = fall, \n",
    "    * 4 = winter \n",
    "* holiday - whether the day is considered a holiday\n",
    "* workingday - whether the day is neither a weekend nor holiday\n",
    "* weather - \n",
    "    * 1: Clear, Few clouds, Partly cloudy, Partly cloudy \n",
    "    * 2: Mist + Cloudy, Mist + Broken clouds, Mist + Few clouds, Mist \n",
    "    * 3: Light Snow, Light Rain + Thunderstorm + Scattered clouds, Light Rain + Scattered clouds \n",
    "    * 4: Heavy Rain + Ice Pallets + Thunderstorm + Mist, Snow + Fog \n",
    "* temp - temperature in Celsius\n",
    "* atemp - \"feels like\" temperature in Celsius\n",
    "* humidity - relative humidity\n",
    "* windspeed - wind speed\n",
    "* casual - number of non-registered user rentals initiated\n",
    "* registered - number of registered user rentals initiated\n",
    "* count - number of total rentals"
   ]
  },
  {
   "cell_type": "code",
   "execution_count": 4,
   "metadata": {
    "ExecuteTime": {
     "end_time": "2018-07-20T04:35:01.777396Z",
     "start_time": "2018-07-20T04:35:01.772280Z"
    }
   },
   "outputs": [],
   "source": [
    "# add missing columns in the test dataset\n",
    "test_df['casual'] = np.NaN\n",
    "test_df['registered'] = np.NaN\n",
    "test_df['count'] = np.NaN"
   ]
  },
  {
   "cell_type": "code",
   "execution_count": 5,
   "metadata": {
    "ExecuteTime": {
     "end_time": "2018-07-20T04:35:01.799252Z",
     "start_time": "2018-07-20T04:35:01.779660Z"
    }
   },
   "outputs": [
    {
     "data": {
      "text/html": [
       "<div>\n",
       "<style scoped>\n",
       "    .dataframe tbody tr th:only-of-type {\n",
       "        vertical-align: middle;\n",
       "    }\n",
       "\n",
       "    .dataframe tbody tr th {\n",
       "        vertical-align: top;\n",
       "    }\n",
       "\n",
       "    .dataframe thead th {\n",
       "        text-align: right;\n",
       "    }\n",
       "</style>\n",
       "<table border=\"1\" class=\"dataframe\">\n",
       "  <thead>\n",
       "    <tr style=\"text-align: right;\">\n",
       "      <th></th>\n",
       "      <th>datetime</th>\n",
       "      <th>season</th>\n",
       "      <th>holiday</th>\n",
       "      <th>workingday</th>\n",
       "      <th>weather</th>\n",
       "      <th>temp</th>\n",
       "      <th>atemp</th>\n",
       "      <th>humidity</th>\n",
       "      <th>windspeed</th>\n",
       "      <th>casual</th>\n",
       "      <th>registered</th>\n",
       "      <th>count</th>\n",
       "    </tr>\n",
       "  </thead>\n",
       "  <tbody>\n",
       "    <tr>\n",
       "      <th>8906</th>\n",
       "      <td>2012-08-13 11:00:00</td>\n",
       "      <td>3</td>\n",
       "      <td>0</td>\n",
       "      <td>1</td>\n",
       "      <td>1</td>\n",
       "      <td>31.16</td>\n",
       "      <td>34.09</td>\n",
       "      <td>40</td>\n",
       "      <td>6.0032</td>\n",
       "      <td>94</td>\n",
       "      <td>151</td>\n",
       "      <td>245</td>\n",
       "    </tr>\n",
       "    <tr>\n",
       "      <th>7125</th>\n",
       "      <td>2012-04-15 06:00:00</td>\n",
       "      <td>2</td>\n",
       "      <td>0</td>\n",
       "      <td>0</td>\n",
       "      <td>1</td>\n",
       "      <td>20.50</td>\n",
       "      <td>24.24</td>\n",
       "      <td>63</td>\n",
       "      <td>8.9981</td>\n",
       "      <td>5</td>\n",
       "      <td>11</td>\n",
       "      <td>16</td>\n",
       "    </tr>\n",
       "    <tr>\n",
       "      <th>9743</th>\n",
       "      <td>2012-10-10 08:00:00</td>\n",
       "      <td>4</td>\n",
       "      <td>0</td>\n",
       "      <td>1</td>\n",
       "      <td>1</td>\n",
       "      <td>20.50</td>\n",
       "      <td>24.24</td>\n",
       "      <td>77</td>\n",
       "      <td>11.0014</td>\n",
       "      <td>33</td>\n",
       "      <td>806</td>\n",
       "      <td>839</td>\n",
       "    </tr>\n",
       "  </tbody>\n",
       "</table>\n",
       "</div>"
      ],
      "text/plain": [
       "                datetime  season  holiday  workingday  weather   temp  atemp  \\\n",
       "8906 2012-08-13 11:00:00       3        0           1        1  31.16  34.09   \n",
       "7125 2012-04-15 06:00:00       2        0           0        1  20.50  24.24   \n",
       "9743 2012-10-10 08:00:00       4        0           1        1  20.50  24.24   \n",
       "\n",
       "      humidity  windspeed  casual  registered  count  \n",
       "8906        40     6.0032      94         151    245  \n",
       "7125        63     8.9981       5          11     16  \n",
       "9743        77    11.0014      33         806    839  "
      ]
     },
     "execution_count": 5,
     "metadata": {},
     "output_type": "execute_result"
    }
   ],
   "source": [
    "train_df.sample(3)"
   ]
  },
  {
   "cell_type": "code",
   "execution_count": 6,
   "metadata": {
    "ExecuteTime": {
     "end_time": "2018-07-20T04:35:01.817160Z",
     "start_time": "2018-07-20T04:35:01.801543Z"
    }
   },
   "outputs": [
    {
     "data": {
      "text/html": [
       "<div>\n",
       "<style scoped>\n",
       "    .dataframe tbody tr th:only-of-type {\n",
       "        vertical-align: middle;\n",
       "    }\n",
       "\n",
       "    .dataframe tbody tr th {\n",
       "        vertical-align: top;\n",
       "    }\n",
       "\n",
       "    .dataframe thead th {\n",
       "        text-align: right;\n",
       "    }\n",
       "</style>\n",
       "<table border=\"1\" class=\"dataframe\">\n",
       "  <thead>\n",
       "    <tr style=\"text-align: right;\">\n",
       "      <th></th>\n",
       "      <th>datetime</th>\n",
       "      <th>season</th>\n",
       "      <th>holiday</th>\n",
       "      <th>workingday</th>\n",
       "      <th>weather</th>\n",
       "      <th>temp</th>\n",
       "      <th>atemp</th>\n",
       "      <th>humidity</th>\n",
       "      <th>windspeed</th>\n",
       "      <th>casual</th>\n",
       "      <th>registered</th>\n",
       "      <th>count</th>\n",
       "    </tr>\n",
       "  </thead>\n",
       "  <tbody>\n",
       "    <tr>\n",
       "      <th>3213</th>\n",
       "      <td>2011-12-31 14:00:00</td>\n",
       "      <td>1</td>\n",
       "      <td>0</td>\n",
       "      <td>0</td>\n",
       "      <td>1</td>\n",
       "      <td>18.86</td>\n",
       "      <td>22.725</td>\n",
       "      <td>51</td>\n",
       "      <td>22.0028</td>\n",
       "      <td>NaN</td>\n",
       "      <td>NaN</td>\n",
       "      <td>NaN</td>\n",
       "    </tr>\n",
       "    <tr>\n",
       "      <th>2115</th>\n",
       "      <td>2011-08-31 16:00:00</td>\n",
       "      <td>3</td>\n",
       "      <td>0</td>\n",
       "      <td>1</td>\n",
       "      <td>1</td>\n",
       "      <td>30.34</td>\n",
       "      <td>33.335</td>\n",
       "      <td>42</td>\n",
       "      <td>8.9981</td>\n",
       "      <td>NaN</td>\n",
       "      <td>NaN</td>\n",
       "      <td>NaN</td>\n",
       "    </tr>\n",
       "    <tr>\n",
       "      <th>4654</th>\n",
       "      <td>2012-06-22 18:00:00</td>\n",
       "      <td>3</td>\n",
       "      <td>0</td>\n",
       "      <td>1</td>\n",
       "      <td>2</td>\n",
       "      <td>32.80</td>\n",
       "      <td>37.880</td>\n",
       "      <td>55</td>\n",
       "      <td>12.9980</td>\n",
       "      <td>NaN</td>\n",
       "      <td>NaN</td>\n",
       "      <td>NaN</td>\n",
       "    </tr>\n",
       "  </tbody>\n",
       "</table>\n",
       "</div>"
      ],
      "text/plain": [
       "                datetime  season  holiday  workingday  weather   temp   atemp  \\\n",
       "3213 2011-12-31 14:00:00       1        0           0        1  18.86  22.725   \n",
       "2115 2011-08-31 16:00:00       3        0           1        1  30.34  33.335   \n",
       "4654 2012-06-22 18:00:00       3        0           1        2  32.80  37.880   \n",
       "\n",
       "      humidity  windspeed  casual  registered  count  \n",
       "3213        51    22.0028     NaN         NaN    NaN  \n",
       "2115        42     8.9981     NaN         NaN    NaN  \n",
       "4654        55    12.9980     NaN         NaN    NaN  "
      ]
     },
     "execution_count": 6,
     "metadata": {},
     "output_type": "execute_result"
    }
   ],
   "source": [
    "test_df.sample(3)"
   ]
  },
  {
   "cell_type": "markdown",
   "metadata": {},
   "source": [
    "#### Feature Engineering"
   ]
  },
  {
   "cell_type": "code",
   "execution_count": 7,
   "metadata": {
    "ExecuteTime": {
     "end_time": "2018-07-20T04:35:01.852903Z",
     "start_time": "2018-07-20T04:35:01.819733Z"
    }
   },
   "outputs": [],
   "source": [
    "# The distribution of values for the 'count' column is highly \n",
    "# right skewed, so we need to transform data to get better results.\n",
    "log_target_variable = True\n",
    "\n",
    "if log_target_variable == True:\n",
    "    train_df['count'] = train_df['count'].apply(lambda x:np.log(x))\n",
    "    test_df['count'] = test_df['count'].apply(lambda x:np.log(x))\n",
    "#sns.distplot(train_df['count'])\n",
    "#plt.show()"
   ]
  },
  {
   "cell_type": "code",
   "execution_count": 8,
   "metadata": {
    "ExecuteTime": {
     "end_time": "2018-07-20T04:35:01.938061Z",
     "start_time": "2018-07-20T04:35:01.855882Z"
    }
   },
   "outputs": [],
   "source": [
    "train_df['year'] = train_df['datetime'].dt.year\n",
    "train_df['month'] = train_df['datetime'].dt.month\n",
    "train_df['day'] = train_df['datetime'].dt.day\n",
    "train_df['hour'] = train_df['datetime'].dt.hour\n",
    "train_df['dayofweek'] = train_df['datetime'].dt.dayofweek\n",
    "train_df['mnth+day'] = train_df['datetime'].apply(lambda x:str(x.month) + '_' + str(x.day))\n",
    "\n",
    "test_df['year'] = test_df['datetime'].dt.year\n",
    "test_df['month'] = test_df['datetime'].dt.month\n",
    "test_df['day'] = test_df['datetime'].dt.day\n",
    "test_df['hour'] = test_df['datetime'].dt.hour\n",
    "test_df['dayofweek'] = test_df['datetime'].dt.dayofweek\n",
    "test_df['mnth+day'] = test_df['datetime'].apply(lambda x:str(x.month) + '_' + str(x.day))"
   ]
  },
  {
   "cell_type": "markdown",
   "metadata": {},
   "source": [
    "#### Feature Selection"
   ]
  },
  {
   "cell_type": "code",
   "execution_count": 9,
   "metadata": {
    "ExecuteTime": {
     "end_time": "2018-07-20T04:35:01.942551Z",
     "start_time": "2018-07-20T04:35:01.939947Z"
    }
   },
   "outputs": [],
   "source": [
    "# TODO: here we could automatically select best features using i.e. random forest"
   ]
  },
  {
   "cell_type": "code",
   "execution_count": null,
   "metadata": {},
   "outputs": [],
   "source": []
  },
  {
   "cell_type": "code",
   "execution_count": 10,
   "metadata": {
    "ExecuteTime": {
     "end_time": "2018-07-20T04:35:01.955564Z",
     "start_time": "2018-07-20T04:35:01.944809Z"
    }
   },
   "outputs": [],
   "source": [
    "# reference https://www.kaggle.com/miteshyadav/comprehensive-eda-with-xgboost-top-10-percentile\n",
    "#features_to_drop = ['datetime','temp','windspeed','casual','registered','mnth+day','day']\n",
    "features_to_drop = ['datetime']\n",
    "\n",
    "train_df = train_df.drop(features_to_drop, axis=1)\n",
    "test_df = test_df.drop(features_to_drop, axis=1)\n"
   ]
  },
  {
   "cell_type": "code",
   "execution_count": 11,
   "metadata": {
    "ExecuteTime": {
     "end_time": "2018-07-20T04:35:01.961896Z",
     "start_time": "2018-07-20T04:35:01.957507Z"
    }
   },
   "outputs": [],
   "source": [
    "# Encode categorical columns\n",
    "def encode_cat_columns(df):\n",
    "    weather_df = pd.get_dummies(df['weather'], prefix='w',drop_first=True)\n",
    "    #year_df    = pd.get_dummies(df['year'], prefix='y',drop_first=True)\n",
    "    #month_df   = pd.get_dummies(df['month'], prefix='m',drop_first=True)\n",
    "    #hour_df    = pd.get_dummies(df['hour'], prefix='h',drop_first=True)\n",
    "    season_df  = pd.get_dummies(df['season'], prefix='s',drop_first=True)\n",
    "\n",
    "    df = df.join(weather_df)\n",
    "    #df = df.join(year_df)\n",
    "    #df = df.join(month_df)                     \n",
    "    #df = df.join(hour_df)\n",
    "    df = df.join(season_df)\n",
    "    \n",
    "    df.drop(['weather'], axis=1, inplace=True)\n",
    "    #df.drop(['year'], axis=1, inplace=True)\n",
    "    #df.drop(['month'], axis=1, inplace=True)\n",
    "    #df.drop(['hour'], axis=1, inplace=True)\n",
    "    df.drop(['season'], axis=1, inplace=True)\n",
    "    \n",
    "    return df\n",
    "\n",
    "#train_df = encode_cat_columns(train_df)\n",
    "#test_df = encode_cat_columns(test_df)"
   ]
  },
  {
   "cell_type": "markdown",
   "metadata": {},
   "source": [
    "#### Modelling"
   ]
  },
  {
   "cell_type": "code",
   "execution_count": 12,
   "metadata": {
    "ExecuteTime": {
     "end_time": "2018-07-20T04:35:01.990047Z",
     "start_time": "2018-07-20T04:35:01.964521Z"
    }
   },
   "outputs": [],
   "source": [
    "X = train_df.iloc[:, train_df.columns!='count'].values\n",
    "y = train_df['count'].values\n",
    "\n",
    "X_train, X_test, y_train, y_test = train_test_split(X, y, test_size=0.2, random_state=0)"
   ]
  },
  {
   "cell_type": "code",
   "execution_count": 13,
   "metadata": {
    "ExecuteTime": {
     "end_time": "2018-07-20T04:35:01.995846Z",
     "start_time": "2018-07-20T04:35:01.992295Z"
    }
   },
   "outputs": [],
   "source": [
    "# scoring rule\n",
    "def RMSLE(y_pred, y_test): \n",
    "    y_pred = y_pred.clip(0)\n",
    "    return np.sqrt(np.mean((np.log1p(y_pred) - np.log1p(y_test))**2))"
   ]
  },
  {
   "cell_type": "code",
   "execution_count": 14,
   "metadata": {
    "ExecuteTime": {
     "end_time": "2018-07-20T04:35:02.938718Z",
     "start_time": "2018-07-20T04:35:01.997909Z"
    }
   },
   "outputs": [
    {
     "name": "stdout",
     "output_type": "stream",
     "text": [
      "RMSLE: 0.028691949270849972\n"
     ]
    }
   ],
   "source": [
    "# create suggested model (https://www.kaggle.com/miteshyadav/comprehensive-eda-with-xgboost-top-10-percentile)\n",
    "# without hypertuning parameters\n",
    "model = XGBRegressor(max_depth=8,min_child_weight=6,gamma=0.4,colsample_bytree=0.6,subsample=0.6)\n",
    "model.fit(X_train, y_train)\n",
    "y_pred = model.predict(X_test)\n",
    "\n",
    "print(\"RMSLE: {}\".format(RMSLE(y_pred, y_test)))"
   ]
  },
  {
   "cell_type": "code",
   "execution_count": 15,
   "metadata": {
    "ExecuteTime": {
     "end_time": "2018-07-20T04:35:02.949734Z",
     "start_time": "2018-07-20T04:35:02.940816Z"
    }
   },
   "outputs": [
    {
     "name": "stdout",
     "output_type": "stream",
     "text": [
      "          y_pred      y\n",
      "0     246.517365  244.0\n",
      "1     250.575638  239.0\n",
      "2     239.655457  229.0\n",
      "3     481.374603  467.0\n",
      "4     361.733154  335.0\n",
      "5      42.564625   40.0\n",
      "6     333.194641  329.0\n",
      "7       2.065551    2.0\n",
      "8     150.984131  141.0\n",
      "9     422.621033  391.0\n",
      "10    107.416206  104.0\n",
      "11    132.745529  126.0\n",
      "12    188.483566  202.0\n",
      "13    137.803726  149.0\n",
      "14    178.265030  187.0\n",
      "15    259.390930  283.0\n",
      "16    425.138245  413.0\n",
      "17    109.909256  133.0\n",
      "18     73.249954   68.0\n",
      "19      4.283044    4.0\n",
      "20     17.647654   20.0\n",
      "21    459.413879  450.0\n",
      "22    133.338806  136.0\n",
      "23     21.653208   20.0\n",
      "24     30.331596   31.0\n",
      "25    110.520302  106.0\n",
      "26     55.952267   49.0\n",
      "27    294.698334  290.0\n",
      "28    138.760880  148.0\n",
      "29    134.716553  121.0\n",
      "...          ...    ...\n",
      "2148   88.565781   84.0\n",
      "2149  293.942017  297.0\n",
      "2150    7.589005    8.0\n",
      "2151  369.855774  362.0\n",
      "2152  182.335556  180.0\n",
      "2153   18.574974   17.0\n",
      "2154   33.353996   36.0\n",
      "2155  227.456284  224.0\n",
      "2156    3.065707    3.0\n",
      "2157  289.739166  286.0\n",
      "2158   76.051331   80.0\n",
      "2159  603.391907  607.0\n",
      "2160  268.025360  295.0\n",
      "2161   23.334970   22.0\n",
      "2162   72.827011   77.0\n",
      "2163  611.570923  641.0\n",
      "2164  166.594452  164.0\n",
      "2165  374.628113  374.0\n",
      "2166  189.611542  188.0\n",
      "2167  438.101807  451.0\n",
      "2168   27.315573   26.0\n",
      "2169  287.010742  300.0\n",
      "2170   73.407471   69.0\n",
      "2171  196.693878  213.0\n",
      "2172    7.242668    7.0\n",
      "2173  325.609833  340.0\n",
      "2174    3.623867    4.0\n",
      "2175  683.028442  627.0\n",
      "2176  420.064850  450.0\n",
      "2177   71.114029   75.0\n",
      "\n",
      "[2178 rows x 2 columns]\n"
     ]
    }
   ],
   "source": [
    "if log_target_variable == True:\n",
    "    y_pred = np.exp(y_pred)\n",
    "    y_test = np.exp(y_test)\n",
    "\n",
    "# compare prediction with real values\n",
    "def compare_y_and_y_pred(y_pred, y_test):\n",
    "    d = {'y_pred' : y_pred,\n",
    "         'y' : y_test}\n",
    "    print(pd.DataFrame(data=d))\n",
    "\n",
    "compare_y_and_y_pred(y_pred, y_test)"
   ]
  },
  {
   "cell_type": "code",
   "execution_count": 16,
   "metadata": {
    "ExecuteTime": {
     "end_time": "2018-07-20T04:35:02.967801Z",
     "start_time": "2018-07-20T04:35:02.951848Z"
    }
   },
   "outputs": [
    {
     "data": {
      "text/html": [
       "<div>\n",
       "<style scoped>\n",
       "    .dataframe tbody tr th:only-of-type {\n",
       "        vertical-align: middle;\n",
       "    }\n",
       "\n",
       "    .dataframe tbody tr th {\n",
       "        vertical-align: top;\n",
       "    }\n",
       "\n",
       "    .dataframe thead th {\n",
       "        text-align: right;\n",
       "    }\n",
       "</style>\n",
       "<table border=\"1\" class=\"dataframe\">\n",
       "  <thead>\n",
       "    <tr style=\"text-align: right;\">\n",
       "      <th></th>\n",
       "      <th>weights</th>\n",
       "    </tr>\n",
       "  </thead>\n",
       "  <tbody>\n",
       "    <tr>\n",
       "      <th>registered</th>\n",
       "      <td>0.337742</td>\n",
       "    </tr>\n",
       "    <tr>\n",
       "      <th>casual</th>\n",
       "      <td>0.194303</td>\n",
       "    </tr>\n",
       "    <tr>\n",
       "      <th>hour</th>\n",
       "      <td>0.186165</td>\n",
       "    </tr>\n",
       "    <tr>\n",
       "      <th>workingday</th>\n",
       "      <td>0.048830</td>\n",
       "    </tr>\n",
       "    <tr>\n",
       "      <th>year</th>\n",
       "      <td>0.035605</td>\n",
       "    </tr>\n",
       "    <tr>\n",
       "      <th>month</th>\n",
       "      <td>0.031536</td>\n",
       "    </tr>\n",
       "    <tr>\n",
       "      <th>temp</th>\n",
       "      <td>0.030519</td>\n",
       "    </tr>\n",
       "    <tr>\n",
       "      <th>atemp</th>\n",
       "      <td>0.023398</td>\n",
       "    </tr>\n",
       "    <tr>\n",
       "      <th>dayofweek</th>\n",
       "      <td>0.023398</td>\n",
       "    </tr>\n",
       "    <tr>\n",
       "      <th>humidity</th>\n",
       "      <td>0.022380</td>\n",
       "    </tr>\n",
       "    <tr>\n",
       "      <th>day</th>\n",
       "      <td>0.016277</td>\n",
       "    </tr>\n",
       "    <tr>\n",
       "      <th>season</th>\n",
       "      <td>0.014242</td>\n",
       "    </tr>\n",
       "    <tr>\n",
       "      <th>weather</th>\n",
       "      <td>0.014242</td>\n",
       "    </tr>\n",
       "    <tr>\n",
       "      <th>mnth+day</th>\n",
       "      <td>0.011190</td>\n",
       "    </tr>\n",
       "    <tr>\n",
       "      <th>windspeed</th>\n",
       "      <td>0.010173</td>\n",
       "    </tr>\n",
       "    <tr>\n",
       "      <th>holiday</th>\n",
       "      <td>0.000000</td>\n",
       "    </tr>\n",
       "  </tbody>\n",
       "</table>\n",
       "</div>"
      ],
      "text/plain": [
       "             weights\n",
       "registered  0.337742\n",
       "casual      0.194303\n",
       "hour        0.186165\n",
       "workingday  0.048830\n",
       "year        0.035605\n",
       "month       0.031536\n",
       "temp        0.030519\n",
       "atemp       0.023398\n",
       "dayofweek   0.023398\n",
       "humidity    0.022380\n",
       "day         0.016277\n",
       "season      0.014242\n",
       "weather     0.014242\n",
       "mnth+day    0.011190\n",
       "windspeed   0.010173\n",
       "holiday     0.000000"
      ]
     },
     "execution_count": 16,
     "metadata": {},
     "output_type": "execute_result"
    }
   ],
   "source": [
    "# feature importance\n",
    "ft_cols = train_df.columns[train_df.columns!='count']\n",
    "feat_importance_df = pd.DataFrame(model.feature_importances_, columns=['weights'], index=ft_cols) \\\n",
    "                           .sort_values(['weights'], ascending=[0])\n",
    "feat_importance_df"
   ]
  },
  {
   "cell_type": "code",
   "execution_count": 17,
   "metadata": {
    "ExecuteTime": {
     "end_time": "2018-07-20T04:35:02.975502Z",
     "start_time": "2018-07-20T04:35:02.969627Z"
    }
   },
   "outputs": [
    {
     "name": "stdout",
     "output_type": "stream",
     "text": [
      "Export the model to model_regression.pkl\n"
     ]
    }
   ],
   "source": [
    "print (\"Export the model to model_regression.pkl\")\n",
    "f = open('../output/model_regression.pkl', 'wb')\n",
    "pickle.dump(model, f)\n",
    "f.close()"
   ]
  }
 ],
 "metadata": {
  "kernelspec": {
   "display_name": "Python 3",
   "language": "python",
   "name": "python3"
  },
  "language_info": {
   "codemirror_mode": {
    "name": "ipython",
    "version": 3
   },
   "file_extension": ".py",
   "mimetype": "text/x-python",
   "name": "python",
   "nbconvert_exporter": "python",
   "pygments_lexer": "ipython3",
   "version": "3.6.6"
  }
 },
 "nbformat": 4,
 "nbformat_minor": 2
}
